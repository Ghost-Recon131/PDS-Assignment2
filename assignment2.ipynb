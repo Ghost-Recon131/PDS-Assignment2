{
 "cells": [
  {
   "cell_type": "markdown",
   "metadata": {
    "collapsed": true,
    "pycharm": {
     "name": "#%% md\n"
    }
   },
   "source": [
    "# Task 1: Retrieving and Preparing the Data"
   ]
  },
  {
   "cell_type": "code",
   "execution_count": 1,
   "outputs": [],
   "source": [
    "#   imports\n",
    "import pandas as pd\n",
    "from sklearn import cluster\n",
    "import numpy as np\n",
    "import matplotlib.pyplot as plt\n",
    "import seaborn as sns"
   ],
   "metadata": {
    "collapsed": false,
    "pycharm": {
     "name": "#%%\n"
    }
   }
  },
  {
   "cell_type": "code",
   "execution_count": 2,
   "outputs": [],
   "source": [
    "# Load the data\n",
    "HFCR = pd.read_csv('heart_failure_clinical_records_dataset.csv')"
   ],
   "metadata": {
    "collapsed": false,
    "pycharm": {
     "name": "#%%\n"
    }
   }
  },
  {
   "cell_type": "markdown",
   "source": [
    "## Data Cleaning and checking"
   ],
   "metadata": {
    "collapsed": false,
    "pycharm": {
     "name": "#%% md\n"
    }
   }
  },
  {
   "cell_type": "markdown",
   "source": [
    "### Overall data checking"
   ],
   "metadata": {
    "collapsed": false,
    "pycharm": {
     "name": "#%% md\n"
    }
   }
  },
  {
   "cell_type": "code",
   "execution_count": 3,
   "outputs": [
    {
     "data": {
      "text/plain": "Index(['age', 'anaemia', 'creatinine_phosphokinase', 'diabetes',\n       'ejection_fraction', 'high_blood_pressure', 'platelets',\n       'serum_creatinine', 'serum_sodium', 'sex', 'smoking', 'time',\n       'DEATH_EVENT'],\n      dtype='object')"
     },
     "execution_count": 3,
     "metadata": {},
     "output_type": "execute_result"
    }
   ],
   "source": [
    "HFCR.columns"
   ],
   "metadata": {
    "collapsed": false,
    "pycharm": {
     "name": "#%%\n"
    }
   }
  },
  {
   "cell_type": "code",
   "execution_count": 4,
   "outputs": [
    {
     "data": {
      "text/plain": "    age  anaemia  creatinine_phosphokinase  diabetes  ejection_fraction  \\\n0  75.0        0                       582         0                 20   \n1  55.0        0                      7861         0                 38   \n2  65.0        0                       146         0                 20   \n3  50.0        1                       111         0                 20   \n4  65.0        1                       160         1                 20   \n\n   high_blood_pressure  platelets  serum_creatinine  serum_sodium  sex  \\\n0                    1  265000.00               1.9           130    1   \n1                    0  263358.03               1.1           136    1   \n2                    0  162000.00               1.3           129    1   \n3                    0  210000.00               1.9           137    1   \n4                    0  327000.00               2.7           116    0   \n\n   smoking  time  DEATH_EVENT  \n0        0     4            1  \n1        0     6            1  \n2        1     7            1  \n3        0     7            1  \n4        0     8            1  ",
      "text/html": "<div>\n<style scoped>\n    .dataframe tbody tr th:only-of-type {\n        vertical-align: middle;\n    }\n\n    .dataframe tbody tr th {\n        vertical-align: top;\n    }\n\n    .dataframe thead th {\n        text-align: right;\n    }\n</style>\n<table border=\"1\" class=\"dataframe\">\n  <thead>\n    <tr style=\"text-align: right;\">\n      <th></th>\n      <th>age</th>\n      <th>anaemia</th>\n      <th>creatinine_phosphokinase</th>\n      <th>diabetes</th>\n      <th>ejection_fraction</th>\n      <th>high_blood_pressure</th>\n      <th>platelets</th>\n      <th>serum_creatinine</th>\n      <th>serum_sodium</th>\n      <th>sex</th>\n      <th>smoking</th>\n      <th>time</th>\n      <th>DEATH_EVENT</th>\n    </tr>\n  </thead>\n  <tbody>\n    <tr>\n      <th>0</th>\n      <td>75.0</td>\n      <td>0</td>\n      <td>582</td>\n      <td>0</td>\n      <td>20</td>\n      <td>1</td>\n      <td>265000.00</td>\n      <td>1.9</td>\n      <td>130</td>\n      <td>1</td>\n      <td>0</td>\n      <td>4</td>\n      <td>1</td>\n    </tr>\n    <tr>\n      <th>1</th>\n      <td>55.0</td>\n      <td>0</td>\n      <td>7861</td>\n      <td>0</td>\n      <td>38</td>\n      <td>0</td>\n      <td>263358.03</td>\n      <td>1.1</td>\n      <td>136</td>\n      <td>1</td>\n      <td>0</td>\n      <td>6</td>\n      <td>1</td>\n    </tr>\n    <tr>\n      <th>2</th>\n      <td>65.0</td>\n      <td>0</td>\n      <td>146</td>\n      <td>0</td>\n      <td>20</td>\n      <td>0</td>\n      <td>162000.00</td>\n      <td>1.3</td>\n      <td>129</td>\n      <td>1</td>\n      <td>1</td>\n      <td>7</td>\n      <td>1</td>\n    </tr>\n    <tr>\n      <th>3</th>\n      <td>50.0</td>\n      <td>1</td>\n      <td>111</td>\n      <td>0</td>\n      <td>20</td>\n      <td>0</td>\n      <td>210000.00</td>\n      <td>1.9</td>\n      <td>137</td>\n      <td>1</td>\n      <td>0</td>\n      <td>7</td>\n      <td>1</td>\n    </tr>\n    <tr>\n      <th>4</th>\n      <td>65.0</td>\n      <td>1</td>\n      <td>160</td>\n      <td>1</td>\n      <td>20</td>\n      <td>0</td>\n      <td>327000.00</td>\n      <td>2.7</td>\n      <td>116</td>\n      <td>0</td>\n      <td>0</td>\n      <td>8</td>\n      <td>1</td>\n    </tr>\n  </tbody>\n</table>\n</div>"
     },
     "execution_count": 4,
     "metadata": {},
     "output_type": "execute_result"
    }
   ],
   "source": [
    "#  quick look at the format of the data\n",
    "HFCR.head(5)"
   ],
   "metadata": {
    "collapsed": false,
    "pycharm": {
     "name": "#%%\n"
    }
   }
  },
  {
   "cell_type": "code",
   "execution_count": 5,
   "outputs": [
    {
     "data": {
      "text/plain": "age                         float64\nanaemia                       int64\ncreatinine_phosphokinase      int64\ndiabetes                      int64\nejection_fraction             int64\nhigh_blood_pressure           int64\nplatelets                   float64\nserum_creatinine            float64\nserum_sodium                  int64\nsex                           int64\nsmoking                       int64\ntime                          int64\nDEATH_EVENT                   int64\ndtype: object"
     },
     "execution_count": 5,
     "metadata": {},
     "output_type": "execute_result"
    }
   ],
   "source": [
    "HFCR.dtypes # Get data type for each column & verify they are correct"
   ],
   "metadata": {
    "collapsed": false,
    "pycharm": {
     "name": "#%%\n"
    }
   }
  },
  {
   "cell_type": "code",
   "execution_count": 6,
   "outputs": [
    {
     "name": "stdout",
     "output_type": "stream",
     "text": [
      "There are no missing values\n"
     ]
    }
   ],
   "source": [
    "# check entire dataset for None types, empty strings, or the NumPy type NaN\n",
    "missing = False\n",
    "for feature in HFCR:\n",
    "    for data in feature:\n",
    "        if data is None or data == '' or data == np.NaN:\n",
    "            missing = True\n",
    "if missing:\n",
    "    print(\"There are missing values\")\n",
    "else:\n",
    "    print(\"There are no missing values\")"
   ],
   "metadata": {
    "collapsed": false,
    "pycharm": {
     "name": "#%%\n"
    }
   }
  },
  {
   "cell_type": "markdown",
   "source": [
    "### Age"
   ],
   "metadata": {
    "collapsed": false,
    "pycharm": {
     "name": "#%% md\n"
    }
   }
  },
  {
   "cell_type": "code",
   "execution_count": 7,
   "outputs": [
    {
     "name": "stdout",
     "output_type": "stream",
     "text": [
      "The youngest patient is aged:  40.0\n",
      "The oldest patient is aged:  95.0\n"
     ]
    }
   ],
   "source": [
    "min_age = HFCR[\"age\"].min()\n",
    "max_age = HFCR[\"age\"].max()\n",
    "print (\"The youngest patient is aged: \", min_age)\n",
    "print (\"The oldest patient is aged: \", max_age)"
   ],
   "metadata": {
    "collapsed": false,
    "pycharm": {
     "name": "#%%\n"
    }
   }
  },
  {
   "cell_type": "markdown",
   "source": [
    "There are no impossible values in this column since the minimum age surveyed is 40, and the oldest is 95."
   ],
   "metadata": {
    "collapsed": false,
    "pycharm": {
     "name": "#%% md\n"
    }
   }
  },
  {
   "cell_type": "markdown",
   "source": [
    "### Anaemia"
   ],
   "metadata": {
    "collapsed": false,
    "pycharm": {
     "name": "#%% md\n"
    }
   }
  },
  {
   "cell_type": "code",
   "execution_count": 8,
   "outputs": [
    {
     "name": "stdout",
     "output_type": "stream",
     "text": [
      "The lowest value:  0\n",
      "The highest value:  1\n"
     ]
    }
   ],
   "source": [
    "min_ana = HFCR[\"anaemia\"].min()\n",
    "max_ana = HFCR[\"anaemia\"].max()\n",
    "print (\"The lowest value: \", min_ana)\n",
    "print (\"The highest value: \", max_ana)"
   ],
   "metadata": {
    "collapsed": false,
    "pycharm": {
     "name": "#%%\n"
    }
   }
  },
  {
   "cell_type": "code",
   "execution_count": 9,
   "outputs": [
    {
     "name": "stdout",
     "output_type": "stream",
     "text": [
      "There are no values other than 0 and 1\n"
     ]
    }
   ],
   "source": [
    "Error = False\n",
    "for HFCR[\"anaemia\"] in HFCR:\n",
    "    for data in HFCR[\"anaemia\"]:\n",
    "        if data == 1 or data == 0:\n",
    "            Error = True\n",
    "if Error:\n",
    "    print(\"There are values other than 0 or 1\")\n",
    "else:\n",
    "    print(\"There are no values other than 0 and 1\")"
   ],
   "metadata": {
    "collapsed": false,
    "pycharm": {
     "name": "#%%\n"
    }
   }
  },
  {
   "cell_type": "markdown",
   "source": [
    "By checking the anaemia with using min / max as well as a for loop, we can conclude there are no values other than 0 or\n",
    "1, which means there are no errors in these boolean values."
   ],
   "metadata": {
    "collapsed": false,
    "pycharm": {
     "name": "#%% md\n"
    }
   }
  },
  {
   "cell_type": "markdown",
   "source": [
    "### Creatinine Phosphokinase"
   ],
   "metadata": {
    "collapsed": false,
    "pycharm": {
     "name": "#%% md\n"
    }
   }
  },
  {
   "cell_type": "code",
   "execution_count": 10,
   "outputs": [
    {
     "name": "stdout",
     "output_type": "stream",
     "text": [
      "The lowest value:  23\n",
      "The highest value:  7861\n",
      "The lower outlier threshold is -581.75 and the upper outlier threshold is 1280.25.\n"
     ]
    }
   ],
   "source": [
    "min_CPK = HFCR[\"creatinine_phosphokinase\"].min()\n",
    "max_CPK = HFCR[\"creatinine_phosphokinase\"].max()\n",
    "print (\"The lowest value: \", min_CPK)\n",
    "print (\"The highest value: \", max_CPK)\n",
    "\n",
    "# looking at the IQR of creatinine phosphokinase\n",
    "Q1 = HFCR[\"creatinine_phosphokinase\"].quantile(0.25)\n",
    "Q3 = HFCR[\"creatinine_phosphokinase\"].quantile(0.75)\n",
    "IQR = Q3 - Q1\n",
    "upper = Q3 + 1.5*IQR\n",
    "lower = Q1 - 1.5*IQR\n",
    "print(f\"The lower outlier threshold is {lower} and the upper outlier threshold is {upper}.\")"
   ],
   "metadata": {
    "collapsed": false,
    "pycharm": {
     "name": "#%%\n"
    }
   }
  },
  {
   "cell_type": "code",
   "execution_count": 11,
   "outputs": [
    {
     "data": {
      "text/plain": "Text(0, 0.5, 'CPK Enzyme (mcg/L')"
     },
     "execution_count": 11,
     "metadata": {},
     "output_type": "execute_result"
    },
    {
     "data": {
      "text/plain": "<Figure size 360x1080 with 1 Axes>",
      "image/png": "[encoded data removed]"
     },
     "metadata": {
      "needs_background": "light"
     },
     "output_type": "display_data"
    }
   ],
   "source": [
    "\n",
    "fig = plt.figure(figsize =(5, 15))\n",
    "plt.boxplot(HFCR[\"creatinine_phosphokinase\"])\n",
    "plt.xlabel('creatinine phosphokinase')\n",
    "plt.ylabel('CPK Enzyme (mcg/L')"
   ],
   "metadata": {
    "collapsed": false,
    "pycharm": {
     "name": "#%%\n"
    }
   }
  },
  {
   "cell_type": "markdown",
   "source": [
    "There appear to be a number of outliers for the level of the CPK enzyme in the blood."
   ],
   "metadata": {
    "collapsed": false,
    "pycharm": {
     "name": "#%% md\n"
    }
   }
  },
  {
   "cell_type": "markdown",
   "source": [
    "### Diabetes"
   ],
   "metadata": {
    "collapsed": false,
    "pycharm": {
     "name": "#%% md\n"
    }
   }
  },
  {
   "cell_type": "code",
   "execution_count": 12,
   "outputs": [
    {
     "name": "stdout",
     "output_type": "stream",
     "text": [
      "The lowest value:  0\n",
      "The highest value:  1\n"
     ]
    }
   ],
   "source": [
    "min_diabetes = HFCR[\"diabetes\"].min()\n",
    "max_diabetes = HFCR[\"diabetes\"].max()\n",
    "print (\"The lowest value: \", min_diabetes)\n",
    "print (\"The highest value: \", max_diabetes)"
   ],
   "metadata": {
    "collapsed": false,
    "pycharm": {
     "name": "#%%\n"
    }
   }
  },
  {
   "cell_type": "code",
   "execution_count": 13,
   "outputs": [
    {
     "name": "stdout",
     "output_type": "stream",
     "text": [
      "There are no values other than 0 and 1\n"
     ]
    }
   ],
   "source": [
    "Error = False\n",
    "for HFCR[\"diabetes\"] in HFCR:\n",
    "    for data in HFCR[\"diabetes\"]:\n",
    "        if data == 1 or data == 0:\n",
    "            Error = True\n",
    "if Error:\n",
    "    print(\"There are values other than 0 or 1\")\n",
    "else:\n",
    "    print(\"There are no values other than 0 and 1\")"
   ],
   "metadata": {
    "collapsed": false,
    "pycharm": {
     "name": "#%%\n"
    }
   }
  },
  {
   "cell_type": "markdown",
   "source": [
    "There are no errors in for the boolean values in the anaemia column."
   ],
   "metadata": {
    "collapsed": false,
    "pycharm": {
     "name": "#%% md\n"
    }
   }
  },
  {
   "cell_type": "markdown",
   "source": [
    "### Ejection fraction"
   ],
   "metadata": {
    "collapsed": false,
    "pycharm": {
     "name": "#%% md\n"
    }
   }
  },
  {
   "cell_type": "code",
   "execution_count": 14,
   "outputs": [
    {
     "name": "stdout",
     "output_type": "stream",
     "text": [
      "The lowest value:  14\n",
      "The highest value:  80\n",
      "The lower outlier threshold is 7.5 and the upper outlier threshold is 67.5.\n"
     ]
    }
   ],
   "source": [
    "min_EJ = HFCR[\"ejection_fraction\"].min()\n",
    "max_EJ = HFCR[\"ejection_fraction\"].max()\n",
    "print (\"The lowest value: \", min_EJ)\n",
    "print (\"The highest value: \", max_EJ)\n",
    "\n",
    "# looking at the IQR of ejection fraction\n",
    "Q1 = HFCR[\"ejection_fraction\"].quantile(0.25)\n",
    "Q3 = HFCR[\"ejection_fraction\"].quantile(0.75)\n",
    "IQR = Q3 - Q1\n",
    "upper = Q3 + 1.5*IQR\n",
    "lower = Q1 - 1.5*IQR\n",
    "print(f\"The lower outlier threshold is {lower} and the upper outlier threshold is {upper}.\")"
   ],
   "metadata": {
    "collapsed": false,
    "pycharm": {
     "name": "#%%\n"
    }
   }
  },
  {
   "cell_type": "code",
   "execution_count": 15,
   "outputs": [
    {
     "name": "stdout",
     "output_type": "stream",
     "text": [
      "Values over 67: \n"
     ]
    },
    {
     "data": {
      "text/plain": "     ejection_fraction\n64                  80\n217                 70",
      "text/html": "<div>\n<style scoped>\n    .dataframe tbody tr th:only-of-type {\n        vertical-align: middle;\n    }\n\n    .dataframe tbody tr th {\n        vertical-align: top;\n    }\n\n    .dataframe thead th {\n        text-align: right;\n    }\n</style>\n<table border=\"1\" class=\"dataframe\">\n  <thead>\n    <tr style=\"text-align: right;\">\n      <th></th>\n      <th>ejection_fraction</th>\n    </tr>\n  </thead>\n  <tbody>\n    <tr>\n      <th>64</th>\n      <td>80</td>\n    </tr>\n    <tr>\n      <th>217</th>\n      <td>70</td>\n    </tr>\n  </tbody>\n</table>\n</div>"
     },
     "execution_count": 15,
     "metadata": {},
     "output_type": "execute_result"
    }
   ],
   "source": [
    "print(\"Values over 67: \")\n",
    "HFCR[['ejection_fraction']][HFCR.ejection_fraction > 67]"
   ],
   "metadata": {
    "collapsed": false,
    "pycharm": {
     "name": "#%%\n"
    }
   }
  },
  {
   "cell_type": "markdown",
   "source": [
    "Outliers with over 67% ejection fraction has been found at row 64 and 217 of the dataset."
   ],
   "metadata": {
    "collapsed": false,
    "pycharm": {
     "name": "#%% md\n"
    }
   }
  },
  {
   "cell_type": "markdown",
   "source": [
    "### High Blood Pressure"
   ],
   "metadata": {
    "collapsed": false,
    "pycharm": {
     "name": "#%% md\n"
    }
   }
  },
  {
   "cell_type": "code",
   "execution_count": 16,
   "outputs": [
    {
     "name": "stdout",
     "output_type": "stream",
     "text": [
      "The lowest value:  0\n",
      "The highest value:  1\n"
     ]
    }
   ],
   "source": [
    "min_HBP = HFCR[\"high_blood_pressure\"].min()\n",
    "max_HBP = HFCR[\"high_blood_pressure\"].max()\n",
    "print (\"The lowest value: \", min_HBP)\n",
    "print (\"The highest value: \", max_HBP)"
   ],
   "metadata": {
    "collapsed": false,
    "pycharm": {
     "name": "#%%\n"
    }
   }
  },
  {
   "cell_type": "code",
   "execution_count": 17,
   "outputs": [
    {
     "name": "stdout",
     "output_type": "stream",
     "text": [
      "There are no values other than 0 and 1\n"
     ]
    }
   ],
   "source": [
    "for HFCR[\"high_blood_pressure\"] in HFCR:\n",
    "    for data in HFCR[\"high_blood_pressure\"]:\n",
    "        if data == 1 or data == 0:\n",
    "            Error = True\n",
    "if Error:\n",
    "    print(\"There are values other than 0 or 1\")\n",
    "else:\n",
    "    print(\"There are no values other than 0 and 1\")"
   ],
   "metadata": {
    "collapsed": false,
    "pycharm": {
     "name": "#%%\n"
    }
   }
  },
  {
   "cell_type": "markdown",
   "source": [
    "There are no errors in for the boolean values in the High Blood Pressure column."
   ],
   "metadata": {
    "collapsed": false,
    "pycharm": {
     "name": "#%% md\n"
    }
   }
  },
  {
   "cell_type": "markdown",
   "source": [
    "### Platelets"
   ],
   "metadata": {
    "collapsed": false,
    "pycharm": {
     "name": "#%% md\n"
    }
   }
  },
  {
   "cell_type": "code",
   "execution_count": 18,
   "outputs": [
    {
     "name": "stdout",
     "output_type": "stream",
     "text": [
      "The lowest value:  25100.0\n",
      "The highest value:  850000.0\n",
      "The lower outlier threshold is 76000.0 and the upper outlier threshold is 440000.0.\n"
     ]
    }
   ],
   "source": [
    "min_platelets = HFCR[\"platelets\"].min()\n",
    "max_platelets = HFCR[\"platelets\"].max()\n",
    "print (\"The lowest value: \", min_platelets)\n",
    "print (\"The highest value: \", max_platelets)\n",
    "\n",
    "# looking at the IQR of platelets\n",
    "Q1 = HFCR[\"platelets\"].quantile(0.25)\n",
    "Q3 = HFCR[\"platelets\"].quantile(0.75)\n",
    "IQR = Q3 - Q1\n",
    "upper = Q3 + 1.5*IQR\n",
    "lower = Q1 - 1.5*IQR\n",
    "print(f\"The lower outlier threshold is {lower} and the upper outlier threshold is {upper}.\")"
   ],
   "metadata": {
    "collapsed": false,
    "pycharm": {
     "name": "#%%\n"
    }
   }
  },
  {
   "cell_type": "code",
   "execution_count": 19,
   "outputs": [
    {
     "name": "stdout",
     "output_type": "stream",
     "text": [
      "Values below 76000: \n"
     ]
    },
    {
     "data": {
      "text/plain": "     platelets\n15     47000.0\n163    75000.0\n167    70000.0\n200    73000.0\n230    62000.0\n277    25100.0\n281    51000.0",
      "text/html": "<div>\n<style scoped>\n    .dataframe tbody tr th:only-of-type {\n        vertical-align: middle;\n    }\n\n    .dataframe tbody tr th {\n        vertical-align: top;\n    }\n\n    .dataframe thead th {\n        text-align: right;\n    }\n</style>\n<table border=\"1\" class=\"dataframe\">\n  <thead>\n    <tr style=\"text-align: right;\">\n      <th></th>\n      <th>platelets</th>\n    </tr>\n  </thead>\n  <tbody>\n    <tr>\n      <th>15</th>\n      <td>47000.0</td>\n    </tr>\n    <tr>\n      <th>163</th>\n      <td>75000.0</td>\n    </tr>\n    <tr>\n      <th>167</th>\n      <td>70000.0</td>\n    </tr>\n    <tr>\n      <th>200</th>\n      <td>73000.0</td>\n    </tr>\n    <tr>\n      <th>230</th>\n      <td>62000.0</td>\n    </tr>\n    <tr>\n      <th>277</th>\n      <td>25100.0</td>\n    </tr>\n    <tr>\n      <th>281</th>\n      <td>51000.0</td>\n    </tr>\n  </tbody>\n</table>\n</div>"
     },
     "execution_count": 19,
     "metadata": {},
     "output_type": "execute_result"
    }
   ],
   "source": [
    "print(\"Values below 76000: \")\n",
    "HFCR[['platelets']][HFCR.platelets < 76000]"
   ],
   "metadata": {
    "collapsed": false,
    "pycharm": {
     "name": "#%%\n"
    }
   }
  },
  {
   "cell_type": "code",
   "execution_count": 20,
   "outputs": [
    {
     "name": "stdout",
     "output_type": "stream",
     "text": [
      "Values over 440000: \n"
     ]
    },
    {
     "data": {
      "text/plain": "     platelets\n7     454000.0\n47    451000.0\n55    461000.0\n69    497000.0\n105   621000.0\n109   850000.0\n117   507000.0\n162   448000.0\n212   481000.0\n224   504000.0\n240   533000.0\n279   451000.0\n287   543000.0\n296   742000.0",
      "text/html": "<div>\n<style scoped>\n    .dataframe tbody tr th:only-of-type {\n        vertical-align: middle;\n    }\n\n    .dataframe tbody tr th {\n        vertical-align: top;\n    }\n\n    .dataframe thead th {\n        text-align: right;\n    }\n</style>\n<table border=\"1\" class=\"dataframe\">\n  <thead>\n    <tr style=\"text-align: right;\">\n      <th></th>\n      <th>platelets</th>\n    </tr>\n  </thead>\n  <tbody>\n    <tr>\n      <th>7</th>\n      <td>454000.0</td>\n    </tr>\n    <tr>\n      <th>47</th>\n      <td>451000.0</td>\n    </tr>\n    <tr>\n      <th>55</th>\n      <td>461000.0</td>\n    </tr>\n    <tr>\n      <th>69</th>\n      <td>497000.0</td>\n    </tr>\n    <tr>\n      <th>105</th>\n      <td>621000.0</td>\n    </tr>\n    <tr>\n      <th>109</th>\n      <td>850000.0</td>\n    </tr>\n    <tr>\n      <th>117</th>\n      <td>507000.0</td>\n    </tr>\n    <tr>\n      <th>162</th>\n      <td>448000.0</td>\n    </tr>\n    <tr>\n      <th>212</th>\n      <td>481000.0</td>\n    </tr>\n    <tr>\n      <th>224</th>\n      <td>504000.0</td>\n    </tr>\n    <tr>\n      <th>240</th>\n      <td>533000.0</td>\n    </tr>\n    <tr>\n      <th>279</th>\n      <td>451000.0</td>\n    </tr>\n    <tr>\n      <th>287</th>\n      <td>543000.0</td>\n    </tr>\n    <tr>\n      <th>296</th>\n      <td>742000.0</td>\n    </tr>\n  </tbody>\n</table>\n</div>"
     },
     "execution_count": 20,
     "metadata": {},
     "output_type": "execute_result"
    }
   ],
   "source": [
    "print(\"Values over 440000: \")\n",
    "HFCR[['platelets']][HFCR.platelets > 440000]"
   ],
   "metadata": {
    "collapsed": false,
    "pycharm": {
     "name": "#%%\n"
    }
   }
  },
  {
   "cell_type": "markdown",
   "source": [
    "A number of outliers have been found for the Platelets column."
   ],
   "metadata": {
    "collapsed": false,
    "pycharm": {
     "name": "#%% md\n"
    }
   }
  },
  {
   "cell_type": "markdown",
   "source": [
    "### Serum Creatinine"
   ],
   "metadata": {
    "collapsed": false,
    "pycharm": {
     "name": "#%% md\n"
    }
   }
  },
  {
   "cell_type": "code",
   "execution_count": 21,
   "outputs": [
    {
     "name": "stdout",
     "output_type": "stream",
     "text": [
      "The lowest value:  0.5\n",
      "The highest value:  9.4\n",
      "The lower outlier threshold is 0.15000000000000024 and the upper outlier threshold is 2.1499999999999995.\n"
     ]
    }
   ],
   "source": [
    "min_SC = HFCR[\"serum_creatinine\"].min()\n",
    "max_SC = HFCR[\"serum_creatinine\"].max()\n",
    "print (\"The lowest value: \", min_SC)\n",
    "print (\"The highest value: \", max_SC)\n",
    "\n",
    "# looking at the IQR of Serum Creatinine\n",
    "Q1 = HFCR[\"serum_creatinine\"].quantile(0.25)\n",
    "Q3 = HFCR[\"serum_creatinine\"].quantile(0.75)\n",
    "IQR = Q3 - Q1\n",
    "upper = Q3 + 1.5*IQR\n",
    "lower = Q1 - 1.5*IQR\n",
    "print(f\"The lower outlier threshold is {lower} and the upper outlier threshold is {upper}.\")"
   ],
   "metadata": {
    "collapsed": false,
    "pycharm": {
     "name": "#%%\n"
    }
   }
  },
  {
   "cell_type": "code",
   "execution_count": 22,
   "outputs": [
    {
     "name": "stdout",
     "output_type": "stream",
     "text": [
      "Values above 2.1499999999999995: \n"
     ]
    },
    {
     "data": {
      "text/plain": "     serum_creatinine\n4                 2.7\n9                 9.4\n10                4.0\n28                5.8\n31                3.0\n35                3.5\n38                2.3\n39                3.0\n48                4.4\n52                6.8\n54                2.2\n56                2.7\n61                2.3\n65                2.9\n82                2.5\n104               2.3\n117               3.2\n124               3.7\n129               3.4\n131               6.1\n150               2.5\n167               2.4\n183               2.5\n203               3.5\n217               9.0\n228               5.0\n247               2.4\n281               2.7\n282               3.8",
      "text/html": "<div>\n<style scoped>\n    .dataframe tbody tr th:only-of-type {\n        vertical-align: middle;\n    }\n\n    .dataframe tbody tr th {\n        vertical-align: top;\n    }\n\n    .dataframe thead th {\n        text-align: right;\n    }\n</style>\n<table border=\"1\" class=\"dataframe\">\n  <thead>\n    <tr style=\"text-align: right;\">\n      <th></th>\n      <th>serum_creatinine</th>\n    </tr>\n  </thead>\n  <tbody>\n    <tr>\n      <th>4</th>\n      <td>2.7</td>\n    </tr>\n    <tr>\n      <th>9</th>\n      <td>9.4</td>\n    </tr>\n    <tr>\n      <th>10</th>\n      <td>4.0</td>\n    </tr>\n    <tr>\n      <th>28</th>\n      <td>5.8</td>\n    </tr>\n    <tr>\n      <th>31</th>\n      <td>3.0</td>\n    </tr>\n    <tr>\n      <th>35</th>\n      <td>3.5</td>\n    </tr>\n    <tr>\n      <th>38</th>\n      <td>2.3</td>\n    </tr>\n    <tr>\n      <th>39</th>\n      <td>3.0</td>\n    </tr>\n    <tr>\n      <th>48</th>\n      <td>4.4</td>\n    </tr>\n    <tr>\n      <th>52</th>\n      <td>6.8</td>\n    </tr>\n    <tr>\n      <th>54</th>\n      <td>2.2</td>\n    </tr>\n    <tr>\n      <th>56</th>\n      <td>2.7</td>\n    </tr>\n    <tr>\n      <th>61</th>\n      <td>2.3</td>\n    </tr>\n    <tr>\n      <th>65</th>\n      <td>2.9</td>\n    </tr>\n    <tr>\n      <th>82</th>\n      <td>2.5</td>\n    </tr>\n    <tr>\n      <th>104</th>\n      <td>2.3</td>\n    </tr>\n    <tr>\n      <th>117</th>\n      <td>3.2</td>\n    </tr>\n    <tr>\n      <th>124</th>\n      <td>3.7</td>\n    </tr>\n    <tr>\n      <th>129</th>\n      <td>3.4</td>\n    </tr>\n    <tr>\n      <th>131</th>\n      <td>6.1</td>\n    </tr>\n    <tr>\n      <th>150</th>\n      <td>2.5</td>\n    </tr>\n    <tr>\n      <th>167</th>\n      <td>2.4</td>\n    </tr>\n    <tr>\n      <th>183</th>\n      <td>2.5</td>\n    </tr>\n    <tr>\n      <th>203</th>\n      <td>3.5</td>\n    </tr>\n    <tr>\n      <th>217</th>\n      <td>9.0</td>\n    </tr>\n    <tr>\n      <th>228</th>\n      <td>5.0</td>\n    </tr>\n    <tr>\n      <th>247</th>\n      <td>2.4</td>\n    </tr>\n    <tr>\n      <th>281</th>\n      <td>2.7</td>\n    </tr>\n    <tr>\n      <th>282</th>\n      <td>3.8</td>\n    </tr>\n  </tbody>\n</table>\n</div>"
     },
     "execution_count": 22,
     "metadata": {},
     "output_type": "execute_result"
    }
   ],
   "source": [
    "print(\"Values above 2.1499999999999995: \")\n",
    "HFCR[['serum_creatinine']][HFCR.serum_creatinine > 2.1499999999999995]"
   ],
   "metadata": {
    "collapsed": false,
    "pycharm": {
     "name": "#%%\n"
    }
   }
  },
  {
   "cell_type": "markdown",
   "source": [
    "### Serum Sodium"
   ],
   "metadata": {
    "collapsed": false
   }
  },
  {
   "cell_type": "code",
   "execution_count": 23,
   "outputs": [
    {
     "name": "stdout",
     "output_type": "stream",
     "text": [
      "The lowest value:  113\n",
      "The highest value:  148\n",
      "The lower outlier threshold is 125.0 and the upper outlier threshold is 149.0.\n"
     ]
    }
   ],
   "source": [
    "min_SS = HFCR[\"serum_sodium\"].min()\n",
    "max_SS = HFCR[\"serum_sodium\"].max()\n",
    "print (\"The lowest value: \", min_SS)\n",
    "print (\"The highest value: \", max_SS)\n",
    "\n",
    "# looking at the IQR of Serum Creatinine\n",
    "Q1 = HFCR[\"serum_sodium\"].quantile(0.25)\n",
    "Q3 = HFCR[\"serum_sodium\"].quantile(0.75)\n",
    "IQR = Q3 - Q1\n",
    "upper = Q3 + 1.5*IQR\n",
    "lower = Q1 - 1.5*IQR\n",
    "print(f\"The lower outlier threshold is {lower} and the upper outlier threshold is {upper}.\")"
   ],
   "metadata": {
    "collapsed": false,
    "pycharm": {
     "name": "#%%\n"
    }
   }
  },
  {
   "cell_type": "code",
   "execution_count": 24,
   "outputs": [
    {
     "name": "stdout",
     "output_type": "stream",
     "text": [
      "Values below 125: \n"
     ]
    },
    {
     "data": {
      "text/plain": "     serum_sodium\n4             116\n19            121\n126           124\n199           113",
      "text/html": "<div>\n<style scoped>\n    .dataframe tbody tr th:only-of-type {\n        vertical-align: middle;\n    }\n\n    .dataframe tbody tr th {\n        vertical-align: top;\n    }\n\n    .dataframe thead th {\n        text-align: right;\n    }\n</style>\n<table border=\"1\" class=\"dataframe\">\n  <thead>\n    <tr style=\"text-align: right;\">\n      <th></th>\n      <th>serum_sodium</th>\n    </tr>\n  </thead>\n  <tbody>\n    <tr>\n      <th>4</th>\n      <td>116</td>\n    </tr>\n    <tr>\n      <th>19</th>\n      <td>121</td>\n    </tr>\n    <tr>\n      <th>126</th>\n      <td>124</td>\n    </tr>\n    <tr>\n      <th>199</th>\n      <td>113</td>\n    </tr>\n  </tbody>\n</table>\n</div>"
     },
     "execution_count": 24,
     "metadata": {},
     "output_type": "execute_result"
    }
   ],
   "source": [
    "print(\"Values below 125: \")\n",
    "HFCR[['serum_sodium']][HFCR.serum_sodium < 125]"
   ],
   "metadata": {
    "collapsed": false,
    "pycharm": {
     "name": "#%%\n"
    }
   }
  },
  {
   "cell_type": "markdown",
   "source": [
    "Here, we can see 4 outliers for the Serum Sodium column."
   ],
   "metadata": {
    "collapsed": false,
    "pycharm": {
     "name": "#%% md\n"
    }
   }
  },
  {
   "cell_type": "markdown",
   "source": [
    "### Sex"
   ],
   "metadata": {
    "collapsed": false,
    "pycharm": {
     "name": "#%% md\n"
    }
   }
  },
  {
   "cell_type": "code",
   "execution_count": 25,
   "outputs": [
    {
     "name": "stdout",
     "output_type": "stream",
     "text": [
      "The lowest value:  0\n",
      "The highest value:  1\n"
     ]
    }
   ],
   "source": [
    "min_S = HFCR[\"sex\"].min()\n",
    "max_S = HFCR[\"sex\"].max()\n",
    "print (\"The lowest value: \", min_S)\n",
    "print (\"The highest value: \", max_S)"
   ],
   "metadata": {
    "collapsed": false,
    "pycharm": {
     "name": "#%%\n"
    }
   }
  },
  {
   "cell_type": "code",
   "execution_count": 26,
   "outputs": [
    {
     "name": "stdout",
     "output_type": "stream",
     "text": [
      "There are no values other than 0 and 1\n"
     ]
    }
   ],
   "source": [
    "for HFCR[\"sex\"] in HFCR:\n",
    "    for data in HFCR[\"sex\"]:\n",
    "        if data == 1 or data == 0:\n",
    "            Error = True\n",
    "if Error:\n",
    "    print(\"There are values other than 0 or 1\")\n",
    "else:\n",
    "    print(\"There are no values other than 0 and 1\")"
   ],
   "metadata": {
    "collapsed": false,
    "pycharm": {
     "name": "#%%\n"
    }
   }
  },
  {
   "cell_type": "markdown",
   "source": [
    "There are no errors in for the binary values in the Sex column."
   ],
   "metadata": {
    "collapsed": false,
    "pycharm": {
     "name": "#%% md\n"
    }
   }
  },
  {
   "cell_type": "markdown",
   "source": [
    "### Smoking"
   ],
   "metadata": {
    "collapsed": false,
    "pycharm": {
     "name": "#%% md\n"
    }
   }
  },
  {
   "cell_type": "code",
   "execution_count": 27,
   "outputs": [
    {
     "name": "stdout",
     "output_type": "stream",
     "text": [
      "The lowest value:  0\n",
      "The highest value:  1\n"
     ]
    }
   ],
   "source": [
    "min_Smoke = HFCR[\"smoking\"].min()\n",
    "max_Smoke = HFCR[\"smoking\"].max()\n",
    "print (\"The lowest value: \", min_Smoke)\n",
    "print (\"The highest value: \", max_Smoke)"
   ],
   "metadata": {
    "collapsed": false,
    "pycharm": {
     "name": "#%%\n"
    }
   }
  },
  {
   "cell_type": "code",
   "execution_count": 28,
   "outputs": [
    {
     "name": "stdout",
     "output_type": "stream",
     "text": [
      "There are no values other than 0 and 1\n"
     ]
    }
   ],
   "source": [
    "for HFCR[\"smoking\"] in HFCR:\n",
    "    for data in HFCR[\"smoking\"]:\n",
    "        if data == 1 or data == 0:\n",
    "            Error = True\n",
    "if Error:\n",
    "    print(\"There are values other than 0 or 1\")\n",
    "else:\n",
    "    print(\"There are no values other than 0 and 1\")"
   ],
   "metadata": {
    "collapsed": false,
    "pycharm": {
     "name": "#%%\n"
    }
   }
  },
  {
   "cell_type": "markdown",
   "source": [
    "There are no errors in for the boolean values in the Smoking column."
   ],
   "metadata": {
    "collapsed": false,
    "pycharm": {
     "name": "#%% md\n"
    }
   }
  },
  {
   "cell_type": "markdown",
   "source": [
    "### Time"
   ],
   "metadata": {
    "collapsed": false,
    "pycharm": {
     "name": "#%% md\n"
    }
   }
  },
  {
   "cell_type": "code",
   "execution_count": 29,
   "outputs": [
    {
     "name": "stdout",
     "output_type": "stream",
     "text": [
      "The lowest value:  4\n",
      "The highest value:  285\n",
      "The lower outlier threshold is -122.0 and the upper outlier threshold is 398.0.\n"
     ]
    }
   ],
   "source": [
    "\n",
    "min_T = HFCR[\"time\"].min()\n",
    "max_T = HFCR[\"time\"].max()\n",
    "print (\"The lowest value: \", min_T)\n",
    "print (\"The highest value: \", max_T)\n",
    "\n",
    "# looking at the IQR of Serum Creatinine\n",
    "Q1 = HFCR[\"time\"].quantile(0.25)\n",
    "Q3 = HFCR[\"time\"].quantile(0.75)\n",
    "IQR = Q3 - Q1\n",
    "upper = Q3 + 1.5*IQR\n",
    "lower = Q1 - 1.5*IQR\n",
    "print(f\"The lower outlier threshold is {lower} and the upper outlier threshold is {upper}.\")"
   ],
   "metadata": {
    "collapsed": false,
    "pycharm": {
     "name": "#%%\n"
    }
   }
  },
  {
   "cell_type": "markdown",
   "source": [
    "All values for Time falls within the IQR and there are no outliers."
   ],
   "metadata": {
    "collapsed": false,
    "pycharm": {
     "name": "#%% md\n"
    }
   }
  },
  {
   "cell_type": "markdown",
   "source": [
    "### Death Event"
   ],
   "metadata": {
    "collapsed": false,
    "pycharm": {
     "name": "#%% md\n"
    }
   }
  },
  {
   "cell_type": "code",
   "execution_count": 30,
   "outputs": [
    {
     "name": "stdout",
     "output_type": "stream",
     "text": [
      "The lowest value:  0\n",
      "The highest value:  1\n"
     ]
    }
   ],
   "source": [
    "min_DE = HFCR[\"DEATH_EVENT\"].min()\n",
    "max_DE = HFCR[\"DEATH_EVENT\"].max()\n",
    "print (\"The lowest value: \", min_DE)\n",
    "print (\"The highest value: \", max_DE)"
   ],
   "metadata": {
    "collapsed": false,
    "pycharm": {
     "name": "#%%\n"
    }
   }
  },
  {
   "cell_type": "code",
   "execution_count": 31,
   "outputs": [
    {
     "name": "stdout",
     "output_type": "stream",
     "text": [
      "There are no values other than 0 and 1\n"
     ]
    }
   ],
   "source": [
    "for HFCR[\"DEATH_EVENT\"] in HFCR:\n",
    "    for data in HFCR[\"DEATH_EVENT\"]:\n",
    "        if data == 1 or data == 0:\n",
    "            Error = True\n",
    "if Error:\n",
    "    print(\"There are values other than 0 or 1\")\n",
    "else:\n",
    "    print(\"There are no values other than 0 and 1\")"
   ],
   "metadata": {
    "collapsed": false,
    "pycharm": {
     "name": "#%%\n"
    }
   }
  },
  {
   "cell_type": "markdown",
   "source": [
    "There are no errors in for the boolean values in the DEATH EVENT column."
   ],
   "metadata": {
    "collapsed": false
   }
  },
  {
   "cell_type": "markdown",
   "source": [
    "# Task 2: Data Exploration"
   ],
   "metadata": {
    "collapsed": false,
    "pycharm": {
     "name": "#%% md\n"
    }
   }
  },
  {
   "cell_type": "markdown",
   "source": [
    "## 2.1 Exploring each column\n",
    "### Age"
   ],
   "metadata": {
    "collapsed": false,
    "pycharm": {
     "name": "#%% md\n"
    }
   }
  },
  {
   "cell_type": "code",
   "execution_count": 32,
   "outputs": [
    {
     "name": "stdout",
     "output_type": "stream",
     "text": [
      "The IQR is: 19.0\n",
      "The lower outlier threshold is 22.5 and the upper outlier threshold is 98.5.\n"
     ]
    }
   ],
   "source": [
    "HFCR = pd.read_csv('heart_failure_clinical_records_dataset.csv')\n",
    "\n",
    "Q1 = HFCR[\"age\"].quantile(0.25)\n",
    "Q3 = HFCR[\"age\"].quantile(0.75)\n",
    "IQR = Q3 - Q1\n",
    "upper = Q3 + 1.5*IQR\n",
    "lower = Q1 - 1.5*IQR\n",
    "print(f\"The IQR is: {IQR}\")\n",
    "print(f\"The lower outlier threshold is {lower} and the upper outlier threshold is {upper}.\")"
   ],
   "metadata": {
    "collapsed": false,
    "pycharm": {
     "name": "#%%\n"
    }
   }
  },
  {
   "cell_type": "markdown",
   "source": [
    "From here, we can see that age is very spread out. However, all patients surveyed are older than 40 and no older than 95."
   ],
   "metadata": {
    "collapsed": false,
    "pycharm": {
     "name": "#%% md\n"
    }
   }
  },
  {
   "cell_type": "code",
   "execution_count": 33,
   "outputs": [
    {
     "name": "stderr",
     "output_type": "stream",
     "text": [
      "C:\\ProgramData\\Anaconda3\\lib\\site-packages\\seaborn\\distributions.py:2551: FutureWarning: `distplot` is a deprecated function and will be removed in a future version. Please adapt your code to use either `displot` (a figure-level function with similar flexibility) or `histplot` (an axes-level function for histograms).\n",
      "  warnings.warn(msg, FutureWarning)\n"
     ]
    },
    {
     "data": {
      "text/plain": "<Figure size 432x288 with 1 Axes>",
      "image/png": "[encoded data removed]"
     },
     "metadata": {
      "needs_background": "light"
     },
     "output_type": "display_data"
    }
   ],
   "source": [
    "sns.distplot(HFCR[\"age\"], kde=True).set(title=\n",
    "    \"Figure 2.1: Histogram of Age distribution\", xlabel=\"Age (Years)\", ylabel=\"Frequency\")\n",
    "plt.show;"
   ],
   "metadata": {
    "collapsed": false,
    "pycharm": {
     "name": "#%%\n"
    }
   }
  },
  {
   "cell_type": "markdown",
   "source": [
    "This graph shows that there is a larger number of younger patients surveyed, evident by right-skewness on the graph."
   ],
   "metadata": {
    "collapsed": false,
    "pycharm": {
     "name": "#%% md\n"
    }
   }
  },
  {
   "cell_type": "markdown",
   "source": [
    "### Anaemia"
   ],
   "metadata": {
    "collapsed": false,
    "pycharm": {
     "name": "#%% md\n"
    }
   }
  },
  {
   "cell_type": "code",
   "execution_count": 34,
   "outputs": [
    {
     "name": "stdout",
     "output_type": "stream",
     "text": [
      "Using this line of code, we can see that 170 patients do not have anaemia whilst 129 does have anaemia\n"
     ]
    }
   ],
   "source": [
    "HFCR['anaemia'].value_counts()\n",
    "print(\"Using this line of code, we can see that 170 patients do not have anaemia whilst 129 does have anaemia\")"
   ],
   "metadata": {
    "collapsed": false,
    "pycharm": {
     "name": "#%%\n"
    }
   }
  },
  {
   "cell_type": "code",
   "execution_count": 35,
   "outputs": [
    {
     "name": "stdout",
     "output_type": "stream",
     "text": [
      "0 means a patient doesn't have anaemia\n"
     ]
    },
    {
     "data": {
      "text/plain": "<Figure size 432x288 with 1 Axes>",
      "image/png": "[encoded data removed]"
     },
     "metadata": {
      "needs_background": "light"
     },
     "output_type": "display_data"
    }
   ],
   "source": [
    "barchart = HFCR['anaemia'].value_counts().plot(kind=\"bar\")\n",
    "label = HFCR['anaemia'].value_counts()\n",
    "barchart.set_ylabel(\"Number of patients\")\n",
    "barchart.set_xlabel(\"Have or don't have anaemia\")\n",
    "plt.title(\"Figure 2.2 Number of patients with anaemia\")\n",
    "print(\"0 means a patient doesn't have anaemia\")\n"
   ],
   "metadata": {
    "collapsed": false,
    "pycharm": {
     "name": "#%%\n"
    }
   }
  },
  {
   "cell_type": "markdown",
   "source": [
    "As we can see here,"
   ],
   "metadata": {
    "collapsed": false,
    "pycharm": {
     "name": "#%% md\n"
    }
   }
  },
  {
   "cell_type": "code",
   "execution_count": 37,
   "outputs": [],
   "source": [
    "#   do stuff here"
   ],
   "metadata": {
    "collapsed": false,
    "pycharm": {
     "name": "#%%\n"
    }
   }
  },
  {
   "cell_type": "markdown",
   "source": [
    "# Task 3: Data Modelling"
   ],
   "metadata": {
    "collapsed": false,
    "pycharm": {
     "name": "#%% md\n"
    }
   }
  },
  {
   "cell_type": "code",
   "execution_count": 38,
   "outputs": [],
   "source": [
    "#   do stuff here"
   ],
   "metadata": {
    "collapsed": false,
    "pycharm": {
     "name": "#%%\n"
    }
   }
  }
 ],
 "metadata": {
  "kernelspec": {
   "display_name": "Python 3",
   "language": "python",
   "name": "python3"
  },
  "language_info": {
   "codemirror_mode": {
    "name": "ipython",
    "version": 2
   },
   "file_extension": ".py",
   "mimetype": "text/x-python",
   "name": "python",
   "nbconvert_exporter": "python",
   "pygments_lexer": "ipython2",
   "version": "2.7.6"
  }
 },
 "nbformat": 4,
 "nbformat_minor": 0
}