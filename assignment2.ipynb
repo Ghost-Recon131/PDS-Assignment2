{
 "cells": [
  {
   "cell_type": "markdown",
   "metadata": {
    "collapsed": true,
    "pycharm": {
     "name": "#%% md\n"
    }
   },
   "source": [
    "# Task 1: Retrieving and Preparing the Data"
   ]
  },
  {
   "cell_type": "code",
   "execution_count": 1,
   "metadata": {
    "collapsed": false,
    "pycharm": {
     "name": "#%%\n"
    }
   },
   "outputs": [],
   "source": [
    "#   imports\n",
    "import pandas as pd\n",
    "import numpy as np\n",
    "import matplotlib.pyplot as plt\n",
    "import seaborn as sns\n",
    "from sklearn.preprocessing import MinMaxScaler\n",
    "from sklearn.tree import DecisionTreeClassifier\n",
    "from sklearn.model_selection import train_test_split\n",
    "from sklearn import metrics\n",
    "from sklearn.neighbors import KNeighborsClassifier\n",
    "from sklearn.feature_selection import SelectKBest\n",
    "from sklearn.feature_selection import chi2"
   ]
  },
  {
   "cell_type": "code",
   "execution_count": 2,
   "metadata": {
    "collapsed": false,
    "pycharm": {
     "name": "#%%\n"
    }
   },
   "outputs": [],
   "source": [
    "# Load the data\n",
    "HFCR = pd.read_csv('heart_failure_clinical_records_dataset.csv')"
   ]
  },
  {
   "cell_type": "markdown",
   "metadata": {
    "collapsed": false,
    "pycharm": {
     "name": "#%% md\n"
    }
   },
   "source": [
    "## Data Cleaning and checking"
   ]
  },
  {
   "cell_type": "markdown",
   "metadata": {
    "collapsed": false,
    "pycharm": {
     "name": "#%% md\n"
    }
   },
   "source": [
    "### Overall data checking"
   ]
  },
  {
   "cell_type": "code",
   "execution_count": 3,
   "metadata": {
    "collapsed": false,
    "pycharm": {
     "name": "#%%\n"
    }
   },
   "outputs": [
    {
     "data": {
      "text/plain": "Index(['age', 'anaemia', 'creatinine_phosphokinase', 'diabetes',\n       'ejection_fraction', 'high_blood_pressure', 'platelets',\n       'serum_creatinine', 'serum_sodium', 'sex', 'smoking', 'time',\n       'DEATH_EVENT'],\n      dtype='object')"
     },
     "execution_count": 3,
     "metadata": {},
     "output_type": "execute_result"
    }
   ],
   "source": [
    "HFCR.columns"
   ]
  },
  {
   "cell_type": "code",
   "execution_count": 4,
   "metadata": {
    "collapsed": false,
    "pycharm": {
     "name": "#%%\n"
    }
   },
   "outputs": [
    {
     "data": {
      "text/html": "<div>\n<style scoped>\n    .dataframe tbody tr th:only-of-type {\n        vertical-align: middle;\n    }\n\n    .dataframe tbody tr th {\n        vertical-align: top;\n    }\n\n    .dataframe thead th {\n        text-align: right;\n    }\n</style>\n<table border=\"1\" class=\"dataframe\">\n  <thead>\n    <tr style=\"text-align: right;\">\n      <th></th>\n      <th>age</th>\n      <th>anaemia</th>\n      <th>creatinine_phosphokinase</th>\n      <th>diabetes</th>\n      <th>ejection_fraction</th>\n      <th>high_blood_pressure</th>\n      <th>platelets</th>\n      <th>serum_creatinine</th>\n      <th>serum_sodium</th>\n      <th>sex</th>\n      <th>smoking</th>\n      <th>time</th>\n      <th>DEATH_EVENT</th>\n    </tr>\n  </thead>\n  <tbody>\n    <tr>\n      <th>0</th>\n      <td>75.0</td>\n      <td>0</td>\n      <td>582</td>\n      <td>0</td>\n      <td>20</td>\n      <td>1</td>\n      <td>265000.00</td>\n      <td>1.9</td>\n      <td>130</td>\n      <td>1</td>\n      <td>0</td>\n      <td>4</td>\n      <td>1</td>\n    </tr>\n    <tr>\n      <th>1</th>\n      <td>55.0</td>\n      <td>0</td>\n      <td>7861</td>\n      <td>0</td>\n      <td>38</td>\n      <td>0</td>\n      <td>263358.03</td>\n      <td>1.1</td>\n      <td>136</td>\n      <td>1</td>\n      <td>0</td>\n      <td>6</td>\n      <td>1</td>\n    </tr>\n    <tr>\n      <th>2</th>\n      <td>65.0</td>\n      <td>0</td>\n      <td>146</td>\n      <td>0</td>\n      <td>20</td>\n      <td>0</td>\n      <td>162000.00</td>\n      <td>1.3</td>\n      <td>129</td>\n      <td>1</td>\n      <td>1</td>\n      <td>7</td>\n      <td>1</td>\n    </tr>\n    <tr>\n      <th>3</th>\n      <td>50.0</td>\n      <td>1</td>\n      <td>111</td>\n      <td>0</td>\n      <td>20</td>\n      <td>0</td>\n      <td>210000.00</td>\n      <td>1.9</td>\n      <td>137</td>\n      <td>1</td>\n      <td>0</td>\n      <td>7</td>\n      <td>1</td>\n    </tr>\n    <tr>\n      <th>4</th>\n      <td>65.0</td>\n      <td>1</td>\n      <td>160</td>\n      <td>1</td>\n      <td>20</td>\n      <td>0</td>\n      <td>327000.00</td>\n      <td>2.7</td>\n      <td>116</td>\n      <td>0</td>\n      <td>0</td>\n      <td>8</td>\n      <td>1</td>\n    </tr>\n  </tbody>\n</table>\n</div>",
      "text/plain": "    age  anaemia  creatinine_phosphokinase  diabetes  ejection_fraction  \\\n0  75.0        0                       582         0                 20   \n1  55.0        0                      7861         0                 38   \n2  65.0        0                       146         0                 20   \n3  50.0        1                       111         0                 20   \n4  65.0        1                       160         1                 20   \n\n   high_blood_pressure  platelets  serum_creatinine  serum_sodium  sex  \\\n0                    1  265000.00               1.9           130    1   \n1                    0  263358.03               1.1           136    1   \n2                    0  162000.00               1.3           129    1   \n3                    0  210000.00               1.9           137    1   \n4                    0  327000.00               2.7           116    0   \n\n   smoking  time  DEATH_EVENT  \n0        0     4            1  \n1        0     6            1  \n2        1     7            1  \n3        0     7            1  \n4        0     8            1  "
     },
     "execution_count": 4,
     "metadata": {},
     "output_type": "execute_result"
    }
   ],
   "source": [
    "#  quick look at the format of the data\n",
    "HFCR.head(5)"
   ]
  },
  {
   "cell_type": "code",
   "execution_count": 5,
   "metadata": {
    "collapsed": false,
    "pycharm": {
     "name": "#%%\n"
    }
   },
   "outputs": [
    {
     "data": {
      "text/plain": "age                         float64\nanaemia                       int64\ncreatinine_phosphokinase      int64\ndiabetes                      int64\nejection_fraction             int64\nhigh_blood_pressure           int64\nplatelets                   float64\nserum_creatinine            float64\nserum_sodium                  int64\nsex                           int64\nsmoking                       int64\ntime                          int64\nDEATH_EVENT                   int64\ndtype: object"
     },
     "execution_count": 5,
     "metadata": {},
     "output_type": "execute_result"
    }
   ],
   "source": [
    "HFCR.dtypes # Get data type for each column & verify they are correct"
   ]
  },
  {
   "cell_type": "code",
   "execution_count": 6,
   "metadata": {
    "collapsed": false,
    "pycharm": {
     "name": "#%%\n"
    }
   },
   "outputs": [
    {
     "name": "stdout",
     "output_type": "stream",
     "text": [
      "There are no missing values\n"
     ]
    }
   ],
   "source": [
    "# check entire dataset for None types, empty strings, or the NumPy type NaN\n",
    "missing = False\n",
    "for feature in HFCR:\n",
    "    for data in feature:\n",
    "        if data is None or data == '' or data == np.NaN:\n",
    "            missing = True\n",
    "if missing:\n",
    "    print(\"There are missing values\")\n",
    "else:\n",
    "    print(\"There are no missing values\")"
   ]
  },
  {
   "cell_type": "markdown",
   "metadata": {
    "collapsed": false,
    "pycharm": {
     "name": "#%% md\n"
    }
   },
   "source": [
    "### Age"
   ]
  },
  {
   "cell_type": "code",
   "execution_count": 7,
   "metadata": {
    "collapsed": false,
    "pycharm": {
     "name": "#%%\n"
    }
   },
   "outputs": [
    {
     "name": "stdout",
     "output_type": "stream",
     "text": [
      "The youngest patient is aged:  40.0\n",
      "The oldest patient is aged:  95.0\n"
     ]
    }
   ],
   "source": [
    "min_age = HFCR[\"age\"].min()\n",
    "max_age = HFCR[\"age\"].max()\n",
    "print (\"The youngest patient is aged: \", min_age)\n",
    "print (\"The oldest patient is aged: \", max_age)"
   ]
  },
  {
   "cell_type": "markdown",
   "metadata": {
    "collapsed": false,
    "pycharm": {
     "name": "#%% md\n"
    }
   },
   "source": [
    "There are no impossible values in this column since the minimum age surveyed is 40, and the oldest is 95."
   ]
  },
  {
   "cell_type": "markdown",
   "metadata": {
    "collapsed": false,
    "pycharm": {
     "name": "#%% md\n"
    }
   },
   "source": [
    "### Anaemia"
   ]
  },
  {
   "cell_type": "code",
   "execution_count": 8,
   "metadata": {
    "collapsed": false,
    "pycharm": {
     "name": "#%%\n"
    }
   },
   "outputs": [
    {
     "name": "stdout",
     "output_type": "stream",
     "text": [
      "The lowest value:  0\n",
      "The highest value:  1\n"
     ]
    }
   ],
   "source": [
    "min_ana = HFCR[\"anaemia\"].min()\n",
    "max_ana = HFCR[\"anaemia\"].max()\n",
    "print (\"The lowest value: \", min_ana)\n",
    "print (\"The highest value: \", max_ana)"
   ]
  },
  {
   "cell_type": "code",
   "execution_count": 9,
   "metadata": {
    "collapsed": false,
    "pycharm": {
     "name": "#%%\n"
    }
   },
   "outputs": [
    {
     "name": "stdout",
     "output_type": "stream",
     "text": [
      "There are no values other than 0 and 1\n"
     ]
    }
   ],
   "source": [
    "Error = False\n",
    "for HFCR[\"anaemia\"] in HFCR:\n",
    "    for data in HFCR[\"anaemia\"]:\n",
    "        if data == 1 or data == 0:\n",
    "            Error = True\n",
    "if Error:\n",
    "    print(\"There are values other than 0 or 1\")\n",
    "else:\n",
    "    print(\"There are no values other than 0 and 1\")"
   ]
  },
  {
   "cell_type": "markdown",
   "metadata": {
    "collapsed": false,
    "pycharm": {
     "name": "#%% md\n"
    }
   },
   "source": [
    "By checking the anaemia with using min / max as well as a for loop, we can conclude there are no values other than 0 or\n",
    "1, which means there are no errors in these boolean values."
   ]
  },
  {
   "cell_type": "markdown",
   "metadata": {
    "collapsed": false,
    "pycharm": {
     "name": "#%% md\n"
    }
   },
   "source": [
    "### Creatinine Phosphokinase"
   ]
  },
  {
   "cell_type": "code",
   "execution_count": 10,
   "metadata": {
    "collapsed": false,
    "pycharm": {
     "name": "#%%\n"
    }
   },
   "outputs": [
    {
     "name": "stdout",
     "output_type": "stream",
     "text": [
      "The lowest value:  23\n",
      "The highest value:  7861\n",
      "The IQR is: 465.5\n",
      "The lower outlier threshold is -581.75 and the upper outlier threshold is 1280.25.\n"
     ]
    }
   ],
   "source": [
    "min_CPK = HFCR[\"creatinine_phosphokinase\"].min()\n",
    "max_CPK = HFCR[\"creatinine_phosphokinase\"].max()\n",
    "print (\"The lowest value: \", min_CPK)\n",
    "print (\"The highest value: \", max_CPK)\n",
    "\n",
    "# looking at the IQR of creatinine phosphokinase\n",
    "Q1 = HFCR[\"creatinine_phosphokinase\"].quantile(0.25)\n",
    "Q3 = HFCR[\"creatinine_phosphokinase\"].quantile(0.75)\n",
    "IQR = Q3 - Q1\n",
    "upper = Q3 + 1.5*IQR\n",
    "lower = Q1 - 1.5*IQR\n",
    "\n",
    "print(f\"The IQR is: {IQR}\")\n",
    "print(f\"The lower outlier threshold is {lower} and the upper outlier threshold is {upper}.\")"
   ]
  },
  {
   "cell_type": "code",
   "execution_count": 11,
   "metadata": {
    "collapsed": false,
    "pycharm": {
     "name": "#%%\n"
    }
   },
   "outputs": [
    {
     "data": {
      "text/plain": "Text(0, 0.5, 'CPK Enzyme (mcg/L')"
     },
     "execution_count": 11,
     "metadata": {},
     "output_type": "execute_result"
    },
    {
     "data": {
      "image/png": "[encoded data removed]",
      "text/plain": "<Figure size 360x1080 with 1 Axes>"
     },
     "metadata": {
      "needs_background": "light"
     },
     "output_type": "display_data"
    }
   ],
   "source": [
    "\n",
    "fig = plt.figure(figsize =(5, 15))\n",
    "plt.boxplot(HFCR[\"creatinine_phosphokinase\"])\n",
    "plt.xlabel('creatinine phosphokinase')\n",
    "plt.ylabel('CPK Enzyme (mcg/L')"
   ]
  },
  {
   "cell_type": "markdown",
   "metadata": {
    "collapsed": false,
    "pycharm": {
     "name": "#%% md\n"
    }
   },
   "source": [
    "There appear to be a number of outliers for the level of the CPK enzyme in the blood."
   ]
  },
  {
   "cell_type": "markdown",
   "metadata": {
    "collapsed": false,
    "pycharm": {
     "name": "#%% md\n"
    }
   },
   "source": [
    "### Diabetes"
   ]
  },
  {
   "cell_type": "code",
   "execution_count": 12,
   "metadata": {
    "collapsed": false,
    "pycharm": {
     "name": "#%%\n"
    }
   },
   "outputs": [
    {
     "name": "stdout",
     "output_type": "stream",
     "text": [
      "The lowest value:  0\n",
      "The highest value:  1\n"
     ]
    }
   ],
   "source": [
    "min_diabetes = HFCR[\"diabetes\"].min()\n",
    "max_diabetes = HFCR[\"diabetes\"].max()\n",
    "print (\"The lowest value: \", min_diabetes)\n",
    "print (\"The highest value: \", max_diabetes)"
   ]
  },
  {
   "cell_type": "code",
   "execution_count": 13,
   "metadata": {
    "collapsed": false,
    "pycharm": {
     "name": "#%%\n"
    }
   },
   "outputs": [
    {
     "name": "stdout",
     "output_type": "stream",
     "text": [
      "There are no values other than 0 and 1\n"
     ]
    }
   ],
   "source": [
    "Error = False\n",
    "for HFCR[\"diabetes\"] in HFCR:\n",
    "    for data in HFCR[\"diabetes\"]:\n",
    "        if data == 1 or data == 0:\n",
    "            Error = True\n",
    "if Error:\n",
    "    print(\"There are values other than 0 or 1\")\n",
    "else:\n",
    "    print(\"There are no values other than 0 and 1\")"
   ]
  },
  {
   "cell_type": "markdown",
   "metadata": {
    "collapsed": false,
    "pycharm": {
     "name": "#%% md\n"
    }
   },
   "source": [
    "There are no errors in for the boolean values in the anaemia column."
   ]
  },
  {
   "cell_type": "markdown",
   "metadata": {
    "collapsed": false,
    "pycharm": {
     "name": "#%% md\n"
    }
   },
   "source": [
    "### Ejection fraction"
   ]
  },
  {
   "cell_type": "code",
   "execution_count": 14,
   "metadata": {
    "collapsed": false,
    "pycharm": {
     "name": "#%%\n"
    }
   },
   "outputs": [
    {
     "name": "stdout",
     "output_type": "stream",
     "text": [
      "The lowest value:  14\n",
      "The highest value:  80\n",
      "The IQR is: 15.0\n",
      "The lower outlier threshold is 7.5 and the upper outlier threshold is 67.5.\n"
     ]
    }
   ],
   "source": [
    "min_EJ = HFCR[\"ejection_fraction\"].min()\n",
    "max_EJ = HFCR[\"ejection_fraction\"].max()\n",
    "print (\"The lowest value: \", min_EJ)\n",
    "print (\"The highest value: \", max_EJ)\n",
    "\n",
    "# looking at the IQR of ejection fraction\n",
    "Q1 = HFCR[\"ejection_fraction\"].quantile(0.25)\n",
    "Q3 = HFCR[\"ejection_fraction\"].quantile(0.75)\n",
    "IQR = Q3 - Q1\n",
    "upper = Q3 + 1.5*IQR\n",
    "lower = Q1 - 1.5*IQR\n",
    "\n",
    "print(f\"The IQR is: {IQR}\")\n",
    "print(f\"The lower outlier threshold is {lower} and the upper outlier threshold is {upper}.\")"
   ]
  },
  {
   "cell_type": "code",
   "execution_count": 15,
   "metadata": {
    "collapsed": false,
    "pycharm": {
     "name": "#%%\n"
    }
   },
   "outputs": [
    {
     "name": "stdout",
     "output_type": "stream",
     "text": [
      "Values over 67: \n"
     ]
    },
    {
     "data": {
      "text/html": "<div>\n<style scoped>\n    .dataframe tbody tr th:only-of-type {\n        vertical-align: middle;\n    }\n\n    .dataframe tbody tr th {\n        vertical-align: top;\n    }\n\n    .dataframe thead th {\n        text-align: right;\n    }\n</style>\n<table border=\"1\" class=\"dataframe\">\n  <thead>\n    <tr style=\"text-align: right;\">\n      <th></th>\n      <th>ejection_fraction</th>\n    </tr>\n  </thead>\n  <tbody>\n    <tr>\n      <th>64</th>\n      <td>80</td>\n    </tr>\n    <tr>\n      <th>217</th>\n      <td>70</td>\n    </tr>\n  </tbody>\n</table>\n</div>",
      "text/plain": "     ejection_fraction\n64                  80\n217                 70"
     },
     "execution_count": 15,
     "metadata": {},
     "output_type": "execute_result"
    }
   ],
   "source": [
    "print(\"Values over 67: \")\n",
    "HFCR[['ejection_fraction']][HFCR.ejection_fraction > 67]"
   ]
  },
  {
   "cell_type": "markdown",
   "metadata": {
    "collapsed": false,
    "pycharm": {
     "name": "#%% md\n"
    }
   },
   "source": [
    "Outliers with over 67% ejection fraction has been found at row 64 and 217 of the dataset."
   ]
  },
  {
   "cell_type": "markdown",
   "metadata": {
    "collapsed": false,
    "pycharm": {
     "name": "#%% md\n"
    }
   },
   "source": [
    "### High Blood Pressure"
   ]
  },
  {
   "cell_type": "code",
   "execution_count": 16,
   "metadata": {
    "collapsed": false,
    "pycharm": {
     "name": "#%%\n"
    }
   },
   "outputs": [
    {
     "name": "stdout",
     "output_type": "stream",
     "text": [
      "The lowest value:  0\n",
      "The highest value:  1\n"
     ]
    }
   ],
   "source": [
    "min_HBP = HFCR[\"high_blood_pressure\"].min()\n",
    "max_HBP = HFCR[\"high_blood_pressure\"].max()\n",
    "print (\"The lowest value: \", min_HBP)\n",
    "print (\"The highest value: \", max_HBP)"
   ]
  },
  {
   "cell_type": "code",
   "execution_count": 17,
   "metadata": {
    "collapsed": false,
    "pycharm": {
     "name": "#%%\n"
    }
   },
   "outputs": [
    {
     "name": "stdout",
     "output_type": "stream",
     "text": [
      "There are no values other than 0 and 1\n"
     ]
    }
   ],
   "source": [
    "for HFCR[\"high_blood_pressure\"] in HFCR:\n",
    "    for data in HFCR[\"high_blood_pressure\"]:\n",
    "        if data == 1 or data == 0:\n",
    "            Error = True\n",
    "if Error:\n",
    "    print(\"There are values other than 0 or 1\")\n",
    "else:\n",
    "    print(\"There are no values other than 0 and 1\")"
   ]
  },
  {
   "cell_type": "markdown",
   "metadata": {
    "collapsed": false,
    "pycharm": {
     "name": "#%% md\n"
    }
   },
   "source": [
    "There are no errors in for the boolean values in the High Blood Pressure column."
   ]
  },
  {
   "cell_type": "markdown",
   "metadata": {
    "collapsed": false,
    "pycharm": {
     "name": "#%% md\n"
    }
   },
   "source": [
    "### Platelets"
   ]
  },
  {
   "cell_type": "code",
   "execution_count": 18,
   "metadata": {
    "collapsed": false,
    "pycharm": {
     "name": "#%%\n"
    }
   },
   "outputs": [
    {
     "name": "stdout",
     "output_type": "stream",
     "text": [
      "The lowest value:  25100.0\n",
      "The highest value:  850000.0\n",
      "The IQR is: 91000.0\n",
      "The lower outlier threshold is 76000.0 and the upper outlier threshold is 440000.0.\n"
     ]
    }
   ],
   "source": [
    "min_platelets = HFCR[\"platelets\"].min()\n",
    "max_platelets = HFCR[\"platelets\"].max()\n",
    "print (\"The lowest value: \", min_platelets)\n",
    "print (\"The highest value: \", max_platelets)\n",
    "\n",
    "# looking at the IQR of platelets\n",
    "Q1 = HFCR[\"platelets\"].quantile(0.25)\n",
    "Q3 = HFCR[\"platelets\"].quantile(0.75)\n",
    "IQR = Q3 - Q1\n",
    "upper = Q3 + 1.5*IQR\n",
    "lower = Q1 - 1.5*IQR\n",
    "\n",
    "print(f\"The IQR is: {IQR}\")\n",
    "print(f\"The lower outlier threshold is {lower} and the upper outlier threshold is {upper}.\")"
   ]
  },
  {
   "cell_type": "code",
   "execution_count": 19,
   "metadata": {
    "collapsed": false,
    "pycharm": {
     "name": "#%%\n"
    }
   },
   "outputs": [
    {
     "name": "stdout",
     "output_type": "stream",
     "text": [
      "Values below 76000: \n"
     ]
    },
    {
     "data": {
      "text/html": "<div>\n<style scoped>\n    .dataframe tbody tr th:only-of-type {\n        vertical-align: middle;\n    }\n\n    .dataframe tbody tr th {\n        vertical-align: top;\n    }\n\n    .dataframe thead th {\n        text-align: right;\n    }\n</style>\n<table border=\"1\" class=\"dataframe\">\n  <thead>\n    <tr style=\"text-align: right;\">\n      <th></th>\n      <th>platelets</th>\n    </tr>\n  </thead>\n  <tbody>\n    <tr>\n      <th>15</th>\n      <td>47000.0</td>\n    </tr>\n    <tr>\n      <th>163</th>\n      <td>75000.0</td>\n    </tr>\n    <tr>\n      <th>167</th>\n      <td>70000.0</td>\n    </tr>\n    <tr>\n      <th>200</th>\n      <td>73000.0</td>\n    </tr>\n    <tr>\n      <th>230</th>\n      <td>62000.0</td>\n    </tr>\n    <tr>\n      <th>277</th>\n      <td>25100.0</td>\n    </tr>\n    <tr>\n      <th>281</th>\n      <td>51000.0</td>\n    </tr>\n  </tbody>\n</table>\n</div>",
      "text/plain": "     platelets\n15     47000.0\n163    75000.0\n167    70000.0\n200    73000.0\n230    62000.0\n277    25100.0\n281    51000.0"
     },
     "execution_count": 19,
     "metadata": {},
     "output_type": "execute_result"
    }
   ],
   "source": [
    "print(\"Values below 76000: \")\n",
    "HFCR[['platelets']][HFCR.platelets < 76000]"
   ]
  },
  {
   "cell_type": "code",
   "execution_count": 20,
   "metadata": {
    "collapsed": false,
    "pycharm": {
     "name": "#%%\n"
    }
   },
   "outputs": [
    {
     "name": "stdout",
     "output_type": "stream",
     "text": [
      "Values over 440000: \n"
     ]
    },
    {
     "data": {
      "text/html": "<div>\n<style scoped>\n    .dataframe tbody tr th:only-of-type {\n        vertical-align: middle;\n    }\n\n    .dataframe tbody tr th {\n        vertical-align: top;\n    }\n\n    .dataframe thead th {\n        text-align: right;\n    }\n</style>\n<table border=\"1\" class=\"dataframe\">\n  <thead>\n    <tr style=\"text-align: right;\">\n      <th></th>\n      <th>platelets</th>\n    </tr>\n  </thead>\n  <tbody>\n    <tr>\n      <th>7</th>\n      <td>454000.0</td>\n    </tr>\n    <tr>\n      <th>47</th>\n      <td>451000.0</td>\n    </tr>\n    <tr>\n      <th>55</th>\n      <td>461000.0</td>\n    </tr>\n    <tr>\n      <th>69</th>\n      <td>497000.0</td>\n    </tr>\n    <tr>\n      <th>105</th>\n      <td>621000.0</td>\n    </tr>\n    <tr>\n      <th>109</th>\n      <td>850000.0</td>\n    </tr>\n    <tr>\n      <th>117</th>\n      <td>507000.0</td>\n    </tr>\n    <tr>\n      <th>162</th>\n      <td>448000.0</td>\n    </tr>\n    <tr>\n      <th>212</th>\n      <td>481000.0</td>\n    </tr>\n    <tr>\n      <th>224</th>\n      <td>504000.0</td>\n    </tr>\n    <tr>\n      <th>240</th>\n      <td>533000.0</td>\n    </tr>\n    <tr>\n      <th>279</th>\n      <td>451000.0</td>\n    </tr>\n    <tr>\n      <th>287</th>\n      <td>543000.0</td>\n    </tr>\n    <tr>\n      <th>296</th>\n      <td>742000.0</td>\n    </tr>\n  </tbody>\n</table>\n</div>",
      "text/plain": "     platelets\n7     454000.0\n47    451000.0\n55    461000.0\n69    497000.0\n105   621000.0\n109   850000.0\n117   507000.0\n162   448000.0\n212   481000.0\n224   504000.0\n240   533000.0\n279   451000.0\n287   543000.0\n296   742000.0"
     },
     "execution_count": 20,
     "metadata": {},
     "output_type": "execute_result"
    }
   ],
   "source": [
    "print(\"Values over 440000: \")\n",
    "HFCR[['platelets']][HFCR.platelets > 440000]"
   ]
  },
  {
   "cell_type": "markdown",
   "metadata": {
    "collapsed": false,
    "pycharm": {
     "name": "#%% md\n"
    }
   },
   "source": [
    "A number of outliers have been found for the Platelets column."
   ]
  },
  {
   "cell_type": "markdown",
   "metadata": {
    "collapsed": false,
    "pycharm": {
     "name": "#%% md\n"
    }
   },
   "source": [
    "### Serum Creatinine"
   ]
  },
  {
   "cell_type": "code",
   "execution_count": 21,
   "metadata": {
    "collapsed": false,
    "pycharm": {
     "name": "#%%\n"
    }
   },
   "outputs": [
    {
     "name": "stdout",
     "output_type": "stream",
     "text": [
      "The lowest value:  0.5\n",
      "The highest value:  9.4\n",
      "The IQR is: 0.4999999999999999\n",
      "The lower outlier threshold is 0.15000000000000024 and the upper outlier threshold is 2.1499999999999995.\n"
     ]
    }
   ],
   "source": [
    "min_SC = HFCR[\"serum_creatinine\"].min()\n",
    "max_SC = HFCR[\"serum_creatinine\"].max()\n",
    "print (\"The lowest value: \", min_SC)\n",
    "print (\"The highest value: \", max_SC)\n",
    "\n",
    "# looking at the IQR of Serum Creatinine\n",
    "Q1 = HFCR[\"serum_creatinine\"].quantile(0.25)\n",
    "Q3 = HFCR[\"serum_creatinine\"].quantile(0.75)\n",
    "IQR = Q3 - Q1\n",
    "upper = Q3 + 1.5*IQR\n",
    "lower = Q1 - 1.5*IQR\n",
    "\n",
    "print(f\"The IQR is: {IQR}\")\n",
    "print(f\"The lower outlier threshold is {lower} and the upper outlier threshold is {upper}.\")"
   ]
  },
  {
   "cell_type": "code",
   "execution_count": 22,
   "metadata": {
    "collapsed": false,
    "pycharm": {
     "name": "#%%\n"
    }
   },
   "outputs": [
    {
     "name": "stdout",
     "output_type": "stream",
     "text": [
      "Values above 2.1499999999999995: \n"
     ]
    },
    {
     "data": {
      "text/html": "<div>\n<style scoped>\n    .dataframe tbody tr th:only-of-type {\n        vertical-align: middle;\n    }\n\n    .dataframe tbody tr th {\n        vertical-align: top;\n    }\n\n    .dataframe thead th {\n        text-align: right;\n    }\n</style>\n<table border=\"1\" class=\"dataframe\">\n  <thead>\n    <tr style=\"text-align: right;\">\n      <th></th>\n      <th>serum_creatinine</th>\n    </tr>\n  </thead>\n  <tbody>\n    <tr>\n      <th>4</th>\n      <td>2.7</td>\n    </tr>\n    <tr>\n      <th>9</th>\n      <td>9.4</td>\n    </tr>\n    <tr>\n      <th>10</th>\n      <td>4.0</td>\n    </tr>\n    <tr>\n      <th>28</th>\n      <td>5.8</td>\n    </tr>\n    <tr>\n      <th>31</th>\n      <td>3.0</td>\n    </tr>\n    <tr>\n      <th>35</th>\n      <td>3.5</td>\n    </tr>\n    <tr>\n      <th>38</th>\n      <td>2.3</td>\n    </tr>\n    <tr>\n      <th>39</th>\n      <td>3.0</td>\n    </tr>\n    <tr>\n      <th>48</th>\n      <td>4.4</td>\n    </tr>\n    <tr>\n      <th>52</th>\n      <td>6.8</td>\n    </tr>\n    <tr>\n      <th>54</th>\n      <td>2.2</td>\n    </tr>\n    <tr>\n      <th>56</th>\n      <td>2.7</td>\n    </tr>\n    <tr>\n      <th>61</th>\n      <td>2.3</td>\n    </tr>\n    <tr>\n      <th>65</th>\n      <td>2.9</td>\n    </tr>\n    <tr>\n      <th>82</th>\n      <td>2.5</td>\n    </tr>\n    <tr>\n      <th>104</th>\n      <td>2.3</td>\n    </tr>\n    <tr>\n      <th>117</th>\n      <td>3.2</td>\n    </tr>\n    <tr>\n      <th>124</th>\n      <td>3.7</td>\n    </tr>\n    <tr>\n      <th>129</th>\n      <td>3.4</td>\n    </tr>\n    <tr>\n      <th>131</th>\n      <td>6.1</td>\n    </tr>\n    <tr>\n      <th>150</th>\n      <td>2.5</td>\n    </tr>\n    <tr>\n      <th>167</th>\n      <td>2.4</td>\n    </tr>\n    <tr>\n      <th>183</th>\n      <td>2.5</td>\n    </tr>\n    <tr>\n      <th>203</th>\n      <td>3.5</td>\n    </tr>\n    <tr>\n      <th>217</th>\n      <td>9.0</td>\n    </tr>\n    <tr>\n      <th>228</th>\n      <td>5.0</td>\n    </tr>\n    <tr>\n      <th>247</th>\n      <td>2.4</td>\n    </tr>\n    <tr>\n      <th>281</th>\n      <td>2.7</td>\n    </tr>\n    <tr>\n      <th>282</th>\n      <td>3.8</td>\n    </tr>\n  </tbody>\n</table>\n</div>",
      "text/plain": "     serum_creatinine\n4                 2.7\n9                 9.4\n10                4.0\n28                5.8\n31                3.0\n35                3.5\n38                2.3\n39                3.0\n48                4.4\n52                6.8\n54                2.2\n56                2.7\n61                2.3\n65                2.9\n82                2.5\n104               2.3\n117               3.2\n124               3.7\n129               3.4\n131               6.1\n150               2.5\n167               2.4\n183               2.5\n203               3.5\n217               9.0\n228               5.0\n247               2.4\n281               2.7\n282               3.8"
     },
     "execution_count": 22,
     "metadata": {},
     "output_type": "execute_result"
    }
   ],
   "source": [
    "print(\"Values above 2.1499999999999995: \")\n",
    "HFCR[['serum_creatinine']][HFCR.serum_creatinine > 2.1499999999999995]"
   ]
  },
  {
   "cell_type": "markdown",
   "metadata": {
    "collapsed": false
   },
   "source": [
    "### Serum Sodium"
   ]
  },
  {
   "cell_type": "code",
   "execution_count": 23,
   "metadata": {
    "collapsed": false,
    "pycharm": {
     "name": "#%%\n"
    }
   },
   "outputs": [
    {
     "name": "stdout",
     "output_type": "stream",
     "text": [
      "The lowest value:  113\n",
      "The highest value:  148\n",
      "The IQR is: 6.0\n",
      "The lower outlier threshold is 125.0 and the upper outlier threshold is 149.0.\n"
     ]
    }
   ],
   "source": [
    "min_SS = HFCR[\"serum_sodium\"].min()\n",
    "max_SS = HFCR[\"serum_sodium\"].max()\n",
    "print (\"The lowest value: \", min_SS)\n",
    "print (\"The highest value: \", max_SS)\n",
    "\n",
    "# looking at the IQR of Serum Creatinine\n",
    "Q1 = HFCR[\"serum_sodium\"].quantile(0.25)\n",
    "Q3 = HFCR[\"serum_sodium\"].quantile(0.75)\n",
    "IQR = Q3 - Q1\n",
    "upper = Q3 + 1.5*IQR\n",
    "lower = Q1 - 1.5*IQR\n",
    "\n",
    "print(f\"The IQR is: {IQR}\")\n",
    "print(f\"The lower outlier threshold is {lower} and the upper outlier threshold is {upper}.\")"
   ]
  },
  {
   "cell_type": "code",
   "execution_count": 24,
   "metadata": {
    "collapsed": false,
    "pycharm": {
     "name": "#%%\n"
    }
   },
   "outputs": [
    {
     "name": "stdout",
     "output_type": "stream",
     "text": [
      "Values below 125: \n"
     ]
    },
    {
     "data": {
      "text/html": "<div>\n<style scoped>\n    .dataframe tbody tr th:only-of-type {\n        vertical-align: middle;\n    }\n\n    .dataframe tbody tr th {\n        vertical-align: top;\n    }\n\n    .dataframe thead th {\n        text-align: right;\n    }\n</style>\n<table border=\"1\" class=\"dataframe\">\n  <thead>\n    <tr style=\"text-align: right;\">\n      <th></th>\n      <th>serum_sodium</th>\n    </tr>\n  </thead>\n  <tbody>\n    <tr>\n      <th>4</th>\n      <td>116</td>\n    </tr>\n    <tr>\n      <th>19</th>\n      <td>121</td>\n    </tr>\n    <tr>\n      <th>126</th>\n      <td>124</td>\n    </tr>\n    <tr>\n      <th>199</th>\n      <td>113</td>\n    </tr>\n  </tbody>\n</table>\n</div>",
      "text/plain": "     serum_sodium\n4             116\n19            121\n126           124\n199           113"
     },
     "execution_count": 24,
     "metadata": {},
     "output_type": "execute_result"
    }
   ],
   "source": [
    "print(\"Values below 125: \")\n",
    "HFCR[['serum_sodium']][HFCR.serum_sodium < 125]"
   ]
  },
  {
   "cell_type": "markdown",
   "metadata": {
    "collapsed": false,
    "pycharm": {
     "name": "#%% md\n"
    }
   },
   "source": [
    "Here, we can see 4 outliers for the Serum Sodium column."
   ]
  },
  {
   "cell_type": "markdown",
   "metadata": {
    "collapsed": false,
    "pycharm": {
     "name": "#%% md\n"
    }
   },
   "source": [
    "### Sex"
   ]
  },
  {
   "cell_type": "code",
   "execution_count": 25,
   "metadata": {
    "collapsed": false,
    "pycharm": {
     "name": "#%%\n"
    }
   },
   "outputs": [
    {
     "name": "stdout",
     "output_type": "stream",
     "text": [
      "The lowest value:  0\n",
      "The highest value:  1\n"
     ]
    }
   ],
   "source": [
    "min_S = HFCR[\"sex\"].min()\n",
    "max_S = HFCR[\"sex\"].max()\n",
    "print (\"The lowest value: \", min_S)\n",
    "print (\"The highest value: \", max_S)"
   ]
  },
  {
   "cell_type": "code",
   "execution_count": 26,
   "metadata": {
    "collapsed": false,
    "pycharm": {
     "name": "#%%\n"
    }
   },
   "outputs": [
    {
     "name": "stdout",
     "output_type": "stream",
     "text": [
      "There are no values other than 0 and 1\n"
     ]
    }
   ],
   "source": [
    "for HFCR[\"sex\"] in HFCR:\n",
    "    for data in HFCR[\"sex\"]:\n",
    "        if data == 1 or data == 0:\n",
    "            Error = True\n",
    "if Error:\n",
    "    print(\"There are values other than 0 or 1\")\n",
    "else:\n",
    "    print(\"There are no values other than 0 and 1\")"
   ]
  },
  {
   "cell_type": "markdown",
   "metadata": {
    "collapsed": false,
    "pycharm": {
     "name": "#%% md\n"
    }
   },
   "source": [
    "There are no errors in for the binary values in the Sex column."
   ]
  },
  {
   "cell_type": "markdown",
   "metadata": {
    "collapsed": false,
    "pycharm": {
     "name": "#%% md\n"
    }
   },
   "source": [
    "### Smoking"
   ]
  },
  {
   "cell_type": "code",
   "execution_count": 27,
   "metadata": {
    "collapsed": false,
    "pycharm": {
     "name": "#%%\n"
    }
   },
   "outputs": [
    {
     "name": "stdout",
     "output_type": "stream",
     "text": [
      "The lowest value:  0\n",
      "The highest value:  1\n"
     ]
    }
   ],
   "source": [
    "min_Smoke = HFCR[\"smoking\"].min()\n",
    "max_Smoke = HFCR[\"smoking\"].max()\n",
    "print (\"The lowest value: \", min_Smoke)\n",
    "print (\"The highest value: \", max_Smoke)"
   ]
  },
  {
   "cell_type": "code",
   "execution_count": 28,
   "metadata": {
    "collapsed": false,
    "pycharm": {
     "name": "#%%\n"
    }
   },
   "outputs": [
    {
     "name": "stdout",
     "output_type": "stream",
     "text": [
      "There are no values other than 0 and 1\n"
     ]
    }
   ],
   "source": [
    "for HFCR[\"smoking\"] in HFCR:\n",
    "    for data in HFCR[\"smoking\"]:\n",
    "        if data == 1 or data == 0:\n",
    "            Error = True\n",
    "if Error:\n",
    "    print(\"There are values other than 0 or 1\")\n",
    "else:\n",
    "    print(\"There are no values other than 0 and 1\")"
   ]
  },
  {
   "cell_type": "markdown",
   "metadata": {
    "collapsed": false,
    "pycharm": {
     "name": "#%% md\n"
    }
   },
   "source": [
    "There are no errors in for the boolean values in the Smoking column."
   ]
  },
  {
   "cell_type": "markdown",
   "metadata": {
    "collapsed": false,
    "pycharm": {
     "name": "#%% md\n"
    }
   },
   "source": [
    "### Time"
   ]
  },
  {
   "cell_type": "code",
   "execution_count": 29,
   "metadata": {
    "collapsed": false,
    "pycharm": {
     "name": "#%%\n"
    }
   },
   "outputs": [
    {
     "name": "stdout",
     "output_type": "stream",
     "text": [
      "The lowest value:  4\n",
      "The highest value:  285\n",
      "The IQR is: 130.0\n",
      "The lower outlier threshold is -122.0 and the upper outlier threshold is 398.0.\n"
     ]
    }
   ],
   "source": [
    "\n",
    "min_T = HFCR[\"time\"].min()\n",
    "max_T = HFCR[\"time\"].max()\n",
    "print (\"The lowest value: \", min_T)\n",
    "print (\"The highest value: \", max_T)\n",
    "\n",
    "# looking at the IQR of Serum Creatinine\n",
    "Q1 = HFCR[\"time\"].quantile(0.25)\n",
    "Q3 = HFCR[\"time\"].quantile(0.75)\n",
    "IQR = Q3 - Q1\n",
    "upper = Q3 + 1.5*IQR\n",
    "lower = Q1 - 1.5*IQR\n",
    "\n",
    "print(f\"The IQR is: {IQR}\")\n",
    "print(f\"The lower outlier threshold is {lower} and the upper outlier threshold is {upper}.\")"
   ]
  },
  {
   "cell_type": "markdown",
   "metadata": {
    "collapsed": false,
    "pycharm": {
     "name": "#%% md\n"
    }
   },
   "source": [
    "All values for Time falls within the IQR and there are no outliers."
   ]
  },
  {
   "cell_type": "markdown",
   "metadata": {
    "collapsed": false,
    "pycharm": {
     "name": "#%% md\n"
    }
   },
   "source": [
    "### Death Event"
   ]
  },
  {
   "cell_type": "code",
   "execution_count": 30,
   "metadata": {
    "collapsed": false,
    "pycharm": {
     "name": "#%%\n"
    }
   },
   "outputs": [
    {
     "name": "stdout",
     "output_type": "stream",
     "text": [
      "The lowest value:  0\n",
      "The highest value:  1\n"
     ]
    }
   ],
   "source": [
    "min_DE = HFCR[\"DEATH_EVENT\"].min()\n",
    "max_DE = HFCR[\"DEATH_EVENT\"].max()\n",
    "print (\"The lowest value: \", min_DE)\n",
    "print (\"The highest value: \", max_DE)"
   ]
  },
  {
   "cell_type": "code",
   "execution_count": 31,
   "metadata": {
    "collapsed": false,
    "pycharm": {
     "name": "#%%\n"
    }
   },
   "outputs": [
    {
     "name": "stdout",
     "output_type": "stream",
     "text": [
      "There are no values other than 0 and 1\n"
     ]
    }
   ],
   "source": [
    "for HFCR[\"DEATH_EVENT\"] in HFCR:\n",
    "    for data in HFCR[\"DEATH_EVENT\"]:\n",
    "        if data == 1 or data == 0:\n",
    "            Error = True\n",
    "if Error:\n",
    "    print(\"There are values other than 0 or 1\")\n",
    "else:\n",
    "    print(\"There are no values other than 0 and 1\")"
   ]
  },
  {
   "cell_type": "markdown",
   "metadata": {
    "collapsed": false
   },
   "source": [
    "There are no errors in for the boolean values in the DEATH EVENT column.\n",
    "\n",
    "### Statement on Data checking section\n",
    "Whilst many columns had outliers based of the IQR of that column, we have decided to not touch those values as they\n",
    "are likely accurate and may represent or indicate some kind of illness or symptom is present. It will be better for\n",
    "someone with knowledge in medical research or conditions to confirm this."
   ]
  },
  {
   "cell_type": "markdown",
   "metadata": {
    "collapsed": false,
    "pycharm": {
     "name": "#%% md\n"
    }
   },
   "source": [
    "# Task 2: Data Exploration"
   ]
  },
  {
   "cell_type": "markdown",
   "metadata": {
    "collapsed": false,
    "pycharm": {
     "name": "#%% md\n"
    }
   },
   "source": [
    "## 2.1 Exploring each column\n",
    "### Age"
   ]
  },
  {
   "cell_type": "code",
   "execution_count": 32,
   "metadata": {
    "collapsed": false,
    "pycharm": {
     "name": "#%%\n"
    }
   },
   "outputs": [
    {
     "name": "stdout",
     "output_type": "stream",
     "text": [
      "The IQR is: 19.0\n",
      "The lower outlier threshold is 22.5 and the upper outlier threshold is 98.5.\n"
     ]
    }
   ],
   "source": [
    "HFCR = pd.read_csv('heart_failure_clinical_records_dataset.csv')\n",
    "\n",
    "Q1 = HFCR[\"age\"].quantile(0.25)\n",
    "Q3 = HFCR[\"age\"].quantile(0.75)\n",
    "IQR = Q3 - Q1\n",
    "upper = Q3 + 1.5*IQR\n",
    "lower = Q1 - 1.5*IQR\n",
    "\n",
    "print(f\"The IQR is: {IQR}\")\n",
    "print(f\"The lower outlier threshold is {lower} and the upper outlier threshold is {upper}.\")"
   ]
  },
  {
   "cell_type": "markdown",
   "metadata": {
    "collapsed": false,
    "pycharm": {
     "name": "#%% md\n"
    }
   },
   "source": [
    "From here, we can see that age is very spread out. However, all patients surveyed are older than 40 and no older than 95."
   ]
  },
  {
   "cell_type": "code",
   "execution_count": 33,
   "metadata": {
    "collapsed": false,
    "pycharm": {
     "name": "#%%\n"
    }
   },
   "outputs": [
    {
     "name": "stderr",
     "output_type": "stream",
     "text": [
      "C:\\ProgramData\\Anaconda3\\lib\\site-packages\\seaborn\\distributions.py:2551: FutureWarning: `distplot` is a deprecated function and will be removed in a future version. Please adapt your code to use either `displot` (a figure-level function with similar flexibility) or `histplot` (an axes-level function for histograms).\n",
      "  warnings.warn(msg, FutureWarning)\n"
     ]
    },
    {
     "data": {
      "image/png": "[encoded data removed]",
      "text/plain": "<Figure size 432x288 with 1 Axes>"
     },
     "metadata": {
      "needs_background": "light"
     },
     "output_type": "display_data"
    }
   ],
   "source": [
    "sns.distplot(HFCR[\"age\"], kde=True).set(title=\n",
    "    \"Figure 2.1: Distribution of age amongst patients\", xlabel=\"Age (Years)\", ylabel=\"Frequency\")\n",
    "plt.show;"
   ]
  },
  {
   "cell_type": "markdown",
   "metadata": {
    "collapsed": false,
    "pycharm": {
     "name": "#%% md\n"
    }
   },
   "source": [
    "This graph shows that there is a larger number of younger patients surveyed, evident by right-skewness on the graph."
   ]
  },
  {
   "cell_type": "markdown",
   "metadata": {
    "collapsed": false,
    "pycharm": {
     "name": "#%% md\n"
    }
   },
   "source": [
    "### Anaemia"
   ]
  },
  {
   "cell_type": "code",
   "execution_count": 34,
   "metadata": {
    "collapsed": false,
    "pycharm": {
     "name": "#%%\n"
    }
   },
   "outputs": [
    {
     "data": {
      "text/plain": "0    170\n1    129\nName: anaemia, dtype: int64"
     },
     "execution_count": 34,
     "metadata": {},
     "output_type": "execute_result"
    }
   ],
   "source": [
    "HFCR['anaemia'].value_counts()"
   ]
  },
  {
   "cell_type": "code",
   "execution_count": 35,
   "metadata": {
    "collapsed": false,
    "pycharm": {
     "name": "#%%\n"
    }
   },
   "outputs": [
    {
     "name": "stdout",
     "output_type": "stream",
     "text": [
      "Using this line of code, we can see that 174 patients do not have diabetes whilst 125 does have diabetes\n"
     ]
    }
   ],
   "source": [
    "print(\"Using this line of code, we can see that 174 patients do not have diabetes whilst 125 does have diabetes\")"
   ]
  },
  {
   "cell_type": "code",
   "execution_count": 36,
   "metadata": {
    "collapsed": false,
    "pycharm": {
     "name": "#%%\n"
    }
   },
   "outputs": [
    {
     "data": {
      "image/png": "[encoded data removed]",
      "text/plain": "<Figure size 504x504 with 1 Axes>"
     },
     "metadata": {},
     "output_type": "display_data"
    }
   ],
   "source": [
    "Status = ['Does not have anaemia', 'Has anaemia']\n",
    "data = [170, 129]\n",
    "fig = plt.figure(figsize =(7, 7))\n",
    "plt.pie(data, labels = Status, autopct='%1.0f%%')\n",
    "plt.title('Figure 2.2 Percentage of patients with and without anaemia')\n",
    "plt.show()"
   ]
  },
  {
   "cell_type": "markdown",
   "metadata": {
    "collapsed": false,
    "pycharm": {
     "name": "#%% md\n"
    }
   },
   "source": [
    "As we can see here, 43% of patients with anaemia."
   ]
  },
  {
   "cell_type": "markdown",
   "metadata": {
    "collapsed": false,
    "pycharm": {
     "name": "#%% md\n"
    }
   },
   "source": [
    "### Creatinine Phosphokinase"
   ]
  },
  {
   "cell_type": "code",
   "execution_count": 37,
   "metadata": {
    "collapsed": false,
    "pycharm": {
     "name": "#%%\n"
    }
   },
   "outputs": [
    {
     "name": "stderr",
     "output_type": "stream",
     "text": [
      "C:\\ProgramData\\Anaconda3\\lib\\site-packages\\seaborn\\distributions.py:2551: FutureWarning: `distplot` is a deprecated function and will be removed in a future version. Please adapt your code to use either `displot` (a figure-level function with similar flexibility) or `histplot` (an axes-level function for histograms).\n",
      "  warnings.warn(msg, FutureWarning)\n"
     ]
    },
    {
     "data": {
      "image/png": "[encoded data removed]",
      "text/plain": "<Figure size 432x288 with 1 Axes>"
     },
     "metadata": {
      "needs_background": "light"
     },
     "output_type": "display_data"
    }
   ],
   "source": [
    "sns.distplot(HFCR[\"creatinine_phosphokinase\"], kde=True).set(title=\n",
    "    \"Figure 2.3: Distribution of CPK level in patients\", xlabel=\"CPK level in blood (mcg/L)\", ylabel=\"Frequency\")\n",
    "plt.show;"
   ]
  },
  {
   "cell_type": "markdown",
   "metadata": {
    "collapsed": false,
    "pycharm": {
     "name": "#%% md\n"
    }
   },
   "source": [
    "As observed here, the majority of patients have a CPK level within the IQR of 465.5mcg/L. Values higher than the upper\n",
    "outlier threshold of 1280.25 could indicate the patient has underlying health issues or symptoms."
   ]
  },
  {
   "cell_type": "markdown",
   "metadata": {
    "collapsed": false,
    "pycharm": {
     "name": "#%% md\n"
    }
   },
   "source": [
    "### diabetes"
   ]
  },
  {
   "cell_type": "code",
   "execution_count": 38,
   "metadata": {
    "collapsed": false,
    "pycharm": {
     "name": "#%%\n"
    }
   },
   "outputs": [
    {
     "data": {
      "text/plain": "0    174\n1    125\nName: diabetes, dtype: int64"
     },
     "execution_count": 38,
     "metadata": {},
     "output_type": "execute_result"
    }
   ],
   "source": [
    "HFCR['diabetes'].value_counts()"
   ]
  },
  {
   "cell_type": "code",
   "execution_count": 39,
   "metadata": {
    "collapsed": false,
    "pycharm": {
     "name": "#%%\n"
    }
   },
   "outputs": [
    {
     "name": "stdout",
     "output_type": "stream",
     "text": [
      "Using this line of code, we can see that 174 patients do not have diabetes whilst 125 does have diabetes\n"
     ]
    }
   ],
   "source": [
    "print(\"Using this line of code, we can see that 174 patients do not have diabetes whilst 125 does have diabetes\")"
   ]
  },
  {
   "cell_type": "code",
   "execution_count": 40,
   "metadata": {
    "collapsed": false,
    "pycharm": {
     "name": "#%%\n"
    }
   },
   "outputs": [
    {
     "data": {
      "image/png": "[encoded data removed]",
      "text/plain": "<Figure size 504x504 with 1 Axes>"
     },
     "metadata": {},
     "output_type": "display_data"
    }
   ],
   "source": [
    "Status = ['Does not have diabetes', 'Has diabetes']\n",
    "data = [174, 125]\n",
    "fig = plt.figure(figsize =(7, 7))\n",
    "plt.pie(data, labels = Status, autopct='%1.0f%%')\n",
    "plt.title('Figure 2.4 Percentage of patients with and without anaemia')\n",
    "plt.show()"
   ]
  },
  {
   "cell_type": "markdown",
   "metadata": {
    "collapsed": false,
    "pycharm": {
     "name": "#%% md\n"
    }
   },
   "source": [
    "We can see here that a large number (42%) of patients in the dataset has diabetes."
   ]
  },
  {
   "cell_type": "markdown",
   "metadata": {
    "collapsed": false
   },
   "source": [
    "### Ejection fraction"
   ]
  },
  {
   "cell_type": "code",
   "execution_count": 41,
   "metadata": {
    "collapsed": false,
    "pycharm": {
     "name": "#%%\n"
    }
   },
   "outputs": [
    {
     "name": "stderr",
     "output_type": "stream",
     "text": [
      "C:\\ProgramData\\Anaconda3\\lib\\site-packages\\seaborn\\distributions.py:2551: FutureWarning: `distplot` is a deprecated function and will be removed in a future version. Please adapt your code to use either `displot` (a figure-level function with similar flexibility) or `histplot` (an axes-level function for histograms).\n",
      "  warnings.warn(msg, FutureWarning)\n"
     ]
    },
    {
     "data": {
      "image/png": "[encoded data removed]",
      "text/plain": "<Figure size 432x288 with 1 Axes>"
     },
     "metadata": {
      "needs_background": "light"
     },
     "output_type": "display_data"
    }
   ],
   "source": [
    "sns.distplot(HFCR[\"ejection_fraction\"], kde=True).set(title=\n",
    "    \"Figure 2.3: Distribution of % Ejection fraction in patients\", xlabel=\"% Ejection fraction\", ylabel=\"Frequency\")\n",
    "plt.show;"
   ]
  },
  {
   "cell_type": "markdown",
   "metadata": {
    "collapsed": false,
    "pycharm": {
     "name": "#%% md\n"
    }
   },
   "source": [
    "As the graph shows us, a large portion of the patients are distributed within the IQR. There are only a few patients\n",
    "located beyond the upper outlier threshold of 67.5, which could be an indicator of health complications."
   ]
  },
  {
   "cell_type": "markdown",
   "metadata": {},
   "source": [
    "### High blood pressure"
   ]
  },
  {
   "cell_type": "code",
   "execution_count": 42,
   "metadata": {},
   "outputs": [
    {
     "data": {
      "text/plain": "0    194\n1    105\nName: high_blood_pressure, dtype: int64"
     },
     "execution_count": 42,
     "metadata": {},
     "output_type": "execute_result"
    }
   ],
   "source": [
    "HFCR['high_blood_pressure'].value_counts()"
   ]
  },
  {
   "cell_type": "code",
   "execution_count": 43,
   "metadata": {},
   "outputs": [
    {
     "name": "stdout",
     "output_type": "stream",
     "text": [
      "Using this line of code, we can see that 194 patients do not have high blood pressure whilst 105 does have high blood presure\n"
     ]
    }
   ],
   "source": [
    "print(\"Using this line of code, we can see that 194 patients do not have high blood pressure whilst 105 does have high blood presure\")"
   ]
  },
  {
   "cell_type": "code",
   "execution_count": 44,
   "metadata": {},
   "outputs": [
    {
     "data": {
      "image/png": "[encoded data removed]",
      "text/plain": "<Figure size 504x504 with 1 Axes>"
     },
     "metadata": {},
     "output_type": "display_data"
    }
   ],
   "source": [
    "Status = ['Does not have high blood pressure', 'Has high blood pressure']\r\n",
    "data = [194, 105]\r\n",
    "fig = plt.figure(figsize =(7, 7))\r\n",
    "plt.pie(data, labels = Status, autopct='%1.0f%%')\r\n",
    "plt.title('Figure 2.6 Percentage of patients with and without high blood pressure')\r\n",
    "plt.show()"
   ]
  },
  {
   "cell_type": "markdown",
   "metadata": {},
   "source": [
    "We can see here that more then half (65%) of patients in the dataset has does not have high blood pressure."
   ]
  },
  {
   "cell_type": "markdown",
   "metadata": {},
   "source": [
    "### Platelets"
   ]
  },
  {
   "cell_type": "code",
   "execution_count": 45,
   "metadata": {},
   "outputs": [
    {
     "name": "stderr",
     "output_type": "stream",
     "text": [
      "C:\\ProgramData\\Anaconda3\\lib\\site-packages\\seaborn\\distributions.py:2551: FutureWarning: `distplot` is a deprecated function and will be removed in a future version. Please adapt your code to use either `displot` (a figure-level function with similar flexibility) or `histplot` (an axes-level function for histograms).\n",
      "  warnings.warn(msg, FutureWarning)\n"
     ]
    },
    {
     "data": {
      "image/png": "[encoded data removed]",
      "text/plain": "<Figure size 432x288 with 1 Axes>"
     },
     "metadata": {
      "needs_background": "light"
     },
     "output_type": "display_data"
    }
   ],
   "source": [
    "sns.distplot(HFCR[\"platelets\"], kde=False, bins=50).set(title=\r\n",
    "    \"Figure 2.7:platelets count in patients\", xlabel=\"Platelets count in blood per mcL\", ylabel=\"Frequency\")\r\n",
    "plt.show;"
   ]
  },
  {
   "cell_type": "markdown",
   "metadata": {},
   "source": [
    "Where the ideal range of platelets in human are 150,000 to 400,000 per mcL(Balduini & Noris, 2014)"
   ]
  },
  {
   "cell_type": "markdown",
   "metadata": {},
   "source": [
    "Which can be observed from the graph that most of the pacients have the platelets count within the normal range."
   ]
  },
  {
   "cell_type": "code",
   "execution_count": 46,
   "metadata": {},
   "outputs": [],
   "source": [
    "plate = HFCR[\"platelets\"]"
   ]
  },
  {
   "cell_type": "code",
   "execution_count": 47,
   "metadata": {},
   "outputs": [
    {
     "data": {
      "text/plain": "251"
     },
     "execution_count": 47,
     "metadata": {},
     "output_type": "execute_result"
    }
   ],
   "source": [
    "len([1 for i in plate if i > 150000 and i < 400000])"
   ]
  },
  {
   "cell_type": "markdown",
   "metadata": {},
   "source": [
    "It shows that 251/300 of the patients are in ideal range."
   ]
  },
  {
   "cell_type": "markdown",
   "metadata": {},
   "source": [
    "### Serum creatinine"
   ]
  },
  {
   "cell_type": "code",
   "execution_count": 48,
   "metadata": {},
   "outputs": [
    {
     "data": {
      "image/png": "[encoded data removed]",
      "text/plain": "<Figure size 432x288 with 1 Axes>"
     },
     "metadata": {
      "needs_background": "light"
     },
     "output_type": "display_data"
    }
   ],
   "source": [
    "sns.distplot(HFCR[\"serum_creatinine\"], kde=True).set(title=\r\n",
    "    \"Figure 2.8: Distribution of Serum Creatinine level in patients\", xlabel=\"Serum Creatinine level\", ylabel=\"Frequency\")\r\n",
    "plt.show;"
   ]
  },
  {
   "cell_type": "markdown",
   "metadata": {},
   "source": [
    "### Serum sodium"
   ]
  },
  {
   "cell_type": "code",
   "execution_count": 49,
   "metadata": {},
   "outputs": [
    {
     "name": "stderr",
     "output_type": "stream",
     "text": [
      "C:\\ProgramData\\Anaconda3\\lib\\site-packages\\seaborn\\distributions.py:2551: FutureWarning: `distplot` is a deprecated function and will be removed in a future version. Please adapt your code to use either `displot` (a figure-level function with similar flexibility) or `histplot` (an axes-level function for histograms).\n",
      "  warnings.warn(msg, FutureWarning)\n"
     ]
    },
    {
     "data": {
      "image/png": "[encoded data removed]",
      "text/plain": "<Figure size 432x288 with 1 Axes>"
     },
     "metadata": {
      "needs_background": "light"
     },
     "output_type": "display_data"
    }
   ],
   "source": [
    "sns.distplot(HFCR[\"serum_sodium\"], kde=True).set(title=\r\n",
    "    \"Figure 2.8: Serum sodium level in patients\", xlabel=\"Serum Sodium level\", ylabel=\"Frequency\")\r\n",
    "plt.show;"
   ]
  },
  {
   "cell_type": "markdown",
   "metadata": {},
   "source": [
    "Where the ideal range of serum sodium in human are 135-145 mmol/L (McKee et al., 2015)"
   ]
  },
  {
   "cell_type": "code",
   "execution_count": 50,
   "metadata": {},
   "outputs": [],
   "source": [
    "sodium = HFCR[\"serum_sodium\"]"
   ]
  },
  {
   "cell_type": "code",
   "execution_count": 51,
   "metadata": {},
   "outputs": [
    {
     "data": {
      "text/plain": "214"
     },
     "execution_count": 51,
     "metadata": {},
     "output_type": "execute_result"
    }
   ],
   "source": [
    "len([1 for i in sodium if i >= 135 and i <= 145])"
   ]
  },
  {
   "cell_type": "markdown",
   "metadata": {},
   "source": [
    "Where 214 out of 300 pacients have the ideal range of serum sodium level."
   ]
  },
  {
   "cell_type": "markdown",
   "metadata": {},
   "source": [
    "### Sex"
   ]
  },
  {
   "cell_type": "code",
   "execution_count": 52,
   "metadata": {},
   "outputs": [
    {
     "data": {
      "text/plain": "1    194\n0    105\nName: sex, dtype: int64"
     },
     "execution_count": 52,
     "metadata": {},
     "output_type": "execute_result"
    }
   ],
   "source": [
    "HFCR['sex'].value_counts()"
   ]
  },
  {
   "cell_type": "code",
   "execution_count": 53,
   "metadata": {},
   "outputs": [
    {
     "name": "stdout",
     "output_type": "stream",
     "text": [
      "Using this line of code, we can see that 194 patients are male whilst 105 are female\n"
     ]
    }
   ],
   "source": [
    "print(\"Using this line of code, we can see that 194 patients are male whilst 105 are female\")"
   ]
  },
  {
   "cell_type": "code",
   "execution_count": 54,
   "metadata": {},
   "outputs": [
    {
     "data": {
      "image/png": "[encoded data removed]",
      "text/plain": "<Figure size 504x504 with 1 Axes>"
     },
     "metadata": {},
     "output_type": "display_data"
    }
   ],
   "source": [
    "Status = ['Male', 'Female']\r\n",
    "data = [194, 105]\r\n",
    "fig = plt.figure(figsize =(7, 7))\r\n",
    "plt.pie(data, labels = Status, autopct='%1.0f%%')\r\n",
    "plt.title('Figure 2.9 Percentage of patients gender')\r\n",
    "plt.show()"
   ]
  },
  {
   "cell_type": "markdown",
   "metadata": {},
   "source": [
    "65% of the patients are male"
   ]
  },
  {
   "cell_type": "markdown",
   "metadata": {},
   "source": [
    "### Smoking"
   ]
  },
  {
   "cell_type": "code",
   "execution_count": 55,
   "metadata": {},
   "outputs": [
    {
     "data": {
      "text/plain": "0    203\n1     96\nName: smoking, dtype: int64"
     },
     "execution_count": 55,
     "metadata": {},
     "output_type": "execute_result"
    }
   ],
   "source": [
    "HFCR['smoking'].value_counts()"
   ]
  },
  {
   "cell_type": "code",
   "execution_count": 56,
   "metadata": {},
   "outputs": [
    {
     "name": "stdout",
     "output_type": "stream",
     "text": [
      "Using this line of code, we can see that 203 patients do not smoke whilst 96 are smoking\n"
     ]
    }
   ],
   "source": [
    "print(\"Using this line of code, we can see that 203 patients do not smoke whilst 96 are smoking\")"
   ]
  },
  {
   "cell_type": "code",
   "execution_count": 57,
   "metadata": {},
   "outputs": [
    {
     "data": {
      "image/png": "[encoded data removed]",
      "text/plain": "<Figure size 504x504 with 1 Axes>"
     },
     "metadata": {},
     "output_type": "display_data"
    }
   ],
   "source": [
    "Status = ['Non-Smoking', 'Smoking']\r\n",
    "data = [203, 96]\r\n",
    "fig = plt.figure(figsize =(7, 7))\r\n",
    "plt.pie(data, labels = Status, autopct='%1.0f%%')\r\n",
    "plt.title('Figure 2.9 Percentage of patients are smoking')\r\n",
    "plt.show()"
   ]
  },
  {
   "cell_type": "markdown",
   "metadata": {},
   "source": [
    "We can see that 68% of the patient do not smoke."
   ]
  },
  {
   "cell_type": "markdown",
   "metadata": {},
   "source": [
    "### Time"
   ]
  },
  {
   "cell_type": "code",
   "execution_count": 58,
   "metadata": {},
   "outputs": [
    {
     "data": {
      "image/png": "[encoded data removed]",
      "text/plain": "<Figure size 432x288 with 1 Axes>"
     },
     "metadata": {
      "needs_background": "light"
     },
     "output_type": "display_data"
    }
   ],
   "source": [
    "sns.scatterplot(data=HFCR, x= HFCR.index, y=\"time\")\r\n",
    "plt.title(\"Figure 2.10 The Follow Up time of each patient\") #title\r\n",
    "plt.xlabel(\"Patient\") #x label\r\n",
    "plt.ylabel(\"Follow-up time(Days)\") #y label\r\n",
    "plt.show()"
   ]
  },
  {
   "cell_type": "markdown",
   "metadata": {},
   "source": [
    "The graph shows the follow-up days of each patient, that start from 4 days to 285 days."
   ]
  },
  {
   "cell_type": "markdown",
   "metadata": {},
   "source": [
    "### DEATH EVENT"
   ]
  },
  {
   "cell_type": "code",
   "execution_count": 59,
   "metadata": {},
   "outputs": [
    {
     "data": {
      "text/plain": "0    203\n1     96\nName: DEATH_EVENT, dtype: int64"
     },
     "execution_count": 59,
     "metadata": {},
     "output_type": "execute_result"
    }
   ],
   "source": [
    "HFCR['DEATH_EVENT'].value_counts()"
   ]
  },
  {
   "cell_type": "code",
   "execution_count": 60,
   "metadata": {},
   "outputs": [
    {
     "name": "stdout",
     "output_type": "stream",
     "text": [
      "Using this line of code, we can see that 96 patients were deceased during the follow-up period whilst 203 are not\n"
     ]
    }
   ],
   "source": [
    "print(\"Using this line of code, we can see that 96 patients were deceased during the follow-up period whilst 203 are not\")"
   ]
  },
  {
   "cell_type": "code",
   "execution_count": 61,
   "metadata": {},
   "outputs": [
    {
     "data": {
      "image/png": "[encoded data removed]",
      "text/plain": "<Figure size 504x504 with 1 Axes>"
     },
     "metadata": {},
     "output_type": "display_data"
    }
   ],
   "source": [
    "Status = ['Not-Deceased', 'Deceased']\r\n",
    "data = [203, 96]\r\n",
    "fig = plt.figure(figsize =(7, 7))\r\n",
    "plt.pie(data, labels = Status, autopct='%1.0f%%')\r\n",
    "plt.title('Figure 2.11 Percentage of patients are deceased during the follow up period')\r\n",
    "plt.show()"
   ]
  },
  {
   "cell_type": "markdown",
   "metadata": {},
   "source": [
    "From this figure, we can see that 32% of the pacient were deceased during the follow-up period"
   ]
  },
  {
   "cell_type": "markdown",
   "metadata": {
    "pycharm": {
     "name": "#%% md\n"
    }
   },
   "source": [
    "## 2.2 Exploring relationship between pairs of attributes"
   ]
  },
  {
   "cell_type": "markdown",
   "metadata": {},
   "source": [
    "6 variables are chooesd inorder to compound 15 pairs of attributes : Age, Diabetes, High Blood Pressure, smoking, Serum sodium and deceased ."
   ]
  },
  {
   "cell_type": "code",
   "execution_count": 62,
   "metadata": {},
   "outputs": [
    {
     "name": "stdout",
     "output_type": "stream",
     "text": [
      "[False False False False False False False False False False False False\n",
      " False False False False False False False False False  True False False\n",
      "  True False False  True False False  True False  True False  True False\n",
      " False  True False False False  True  True  True False False False  True\n",
      " False False False False False  True False False False False False  True\n",
      "  True False False False False False False False False False False False\n",
      " False False False False False False  True False False False False False\n",
      "  True False False  True  True False False False False False  True False\n",
      "  True False  True False False False False False False False False False\n",
      " False False False False False False  True False  True False  True False\n",
      " False  True False False False False  True False False False False False\n",
      " False False False False False False False False False False False False\n",
      " False False False False False False False  True False False False False\n",
      " False False False False False False False False False  True False False\n",
      " False False False False False False  True False False False False False\n",
      " False False False False False False False False  True False False False\n",
      " False False False False  True False  True False False  True False False\n",
      " False False False False False  True  True False False  True False False\n",
      " False False False  True False False False False False False False False\n",
      " False False False False False False False False False False False False\n",
      "  True False False False False False False False False False False False\n",
      " False  True False  True False  True False False False False False False\n",
      " False False False False False False  True False False False False False\n",
      " False False False False False False False False False False False False\n",
      " False False False False False False  True False False False False]\n"
     ]
    }
   ],
   "source": [
    "#diavhbp = HFCR[(HFCR['diabetes'] == 1) & (HFCR['high_blood_pressure'] == 1)]\r\n",
    "diavhbp= np.where((HFCR[\"diabetes\"] ==1) & (HFCR[\"high_blood_pressure\"] ==1), True, False)\r\n",
    "print(diavhbp)\r\n"
   ]
  },
  {
   "cell_type": "code",
   "execution_count": 63,
   "metadata": {},
   "outputs": [
    {
     "name": "stdout",
     "output_type": "stream",
     "text": [
      "43\n"
     ]
    }
   ],
   "source": [
    "sdiavhbp = sum(diavhbp)\r\n",
    "print(sdiavhbp)"
   ]
  },
  {
   "cell_type": "code",
   "execution_count": 64,
   "metadata": {},
   "outputs": [
    {
     "data": {
      "text/plain": "82"
     },
     "execution_count": 64,
     "metadata": {},
     "output_type": "execute_result"
    }
   ],
   "source": [
    "125-43"
   ]
  },
  {
   "cell_type": "code",
   "execution_count": 65,
   "metadata": {},
   "outputs": [
    {
     "data": {
      "image/png": "[encoded data removed]",
      "text/plain": "<Figure size 504x504 with 1 Axes>"
     },
     "metadata": {},
     "output_type": "display_data"
    }
   ],
   "source": [
    "Status = ['Have high blood pressure while having diabetes', 'Does not have high blood pressure while having diabetes']\r\n",
    "data = [43, 82]\r\n",
    "fig = plt.figure(figsize =(7, 7))\r\n",
    "plt.pie(data, labels = Status, autopct='%1.0f%%')\r\n",
    "plt.title('Figure 2.11 Percentage of patients have high blood pressure while having diabetes')\r\n",
    "plt.show()"
   ]
  },
  {
   "cell_type": "markdown",
   "metadata": {},
   "source": [
    "Which can see that 34% of the patient have both diabetes and high blood pressure, which does not show a very strong correlation between these two variables however still related"
   ]
  },
  {
   "cell_type": "code",
   "execution_count": 66,
   "metadata": {},
   "outputs": [
    {
     "name": "stdout",
     "output_type": "stream",
     "text": [
      "[False False False False  True False False  True False False False False\n",
      " False False False False False False False  True False  True False False\n",
      "  True  True False  True False  True  True False  True False  True  True\n",
      "  True  True False  True False  True  True False  True  True False  True\n",
      " False False False False  True  True  True False False False False  True\n",
      "  True False False False False False  True False False  True False False\n",
      " False False False False False False False False False False  True False\n",
      "  True False False False False False False False False False False False\n",
      " False False False False False False False False False False False False\n",
      " False False False False False False False False False False False False\n",
      " False False False False False False  True False False False False False\n",
      " False False False False False False False False False False False False\n",
      " False False False False False False False False False False False False\n",
      " False False False False False False False  True  True  True False  True\n",
      " False False False False False False False False False False False False\n",
      " False  True  True False False  True False  True False False False False\n",
      " False False False False False False False False False False False False\n",
      " False False False False False False False False False  True False False\n",
      " False False False False False False False False False False False False\n",
      " False False False False False False False False False False False False\n",
      " False False False False False False False False False False False False\n",
      " False False False False False False False False False False  True False\n",
      " False False False False False False False False False False False False\n",
      " False False False False False False False False False False False False\n",
      " False False False False False False False False False False False]\n"
     ]
    }
   ],
   "source": [
    "diavdeath= np.where((HFCR[\"diabetes\"] ==1) & (HFCR[\"DEATH_EVENT\"] ==1), True, False)\r\n",
    "print(diavdeath)"
   ]
  },
  {
   "cell_type": "code",
   "execution_count": 67,
   "metadata": {},
   "outputs": [
    {
     "name": "stdout",
     "output_type": "stream",
     "text": [
      "40\n"
     ]
    }
   ],
   "source": [
    "sdiavdeath = sum(diavdeath)\r\n",
    "print(sdiavdeath)"
   ]
  },
  {
   "cell_type": "code",
   "execution_count": 68,
   "metadata": {},
   "outputs": [
    {
     "data": {
      "text/plain": "85"
     },
     "execution_count": 68,
     "metadata": {},
     "output_type": "execute_result"
    }
   ],
   "source": [
    "125-40"
   ]
  },
  {
   "cell_type": "code",
   "execution_count": 69,
   "metadata": {},
   "outputs": [
    {
     "data": {
      "image/png": "[encoded data removed]",
      "text/plain": "<Figure size 504x504 with 1 Axes>"
     },
     "metadata": {},
     "output_type": "display_data"
    }
   ],
   "source": [
    "Status = ['Deceased  while having diabetes', 'Did not deceased while having diabetes']\r\n",
    "data = [40, 85]\r\n",
    "fig = plt.figure(figsize =(7, 7))\r\n",
    "plt.pie(data, labels = Status, autopct='%1.0f%%')\r\n",
    "plt.title('Figure 2.12 Percentage of patients have deceased while having diabetes')\r\n",
    "plt.show()"
   ]
  },
  {
   "cell_type": "markdown",
   "metadata": {},
   "source": [
    "Which can see that 32% of the patient have deceased while having diabetes, which does not show a very strong correlation between these two variables but still have some connection."
   ]
  },
  {
   "cell_type": "code",
   "execution_count": 70,
   "metadata": {},
   "outputs": [
    {
     "name": "stdout",
     "output_type": "stream",
     "text": [
      "[False False False False False False False  True False False False False\n",
      " False False False False False False False False False False False False\n",
      " False  True False  True False  True False False False False False False\n",
      " False False False False False  True  True False False  True False  True\n",
      " False False False False False False  True False False False False  True\n",
      " False False False False False False False False False False False  True\n",
      " False  True False False False False  True False False False False False\n",
      " False False False False False False  True False False False False False\n",
      " False False False False False False False False False False False False\n",
      " False  True False False False False False False False False False False\n",
      " False False False False False False False False False False False False\n",
      " False False False False False False False False False False False False\n",
      " False False False False False False False False False  True False False\n",
      " False False False False False False False False False False False False\n",
      " False False  True False False False  True False False False False False\n",
      " False  True  True False False False False False False False False False\n",
      " False  True False False False False False  True False False False False\n",
      " False False False False False False  True False False False False False\n",
      " False False False False False False False False False False False False\n",
      " False False False False False False False False False False False False\n",
      " False  True False False False False False False False False False False\n",
      " False False False  True False False False False False False False False\n",
      " False False False False False False  True False False False  True False\n",
      " False False False False False False False False False False False False\n",
      " False False False False  True  True  True False False False False]\n"
     ]
    }
   ],
   "source": [
    "diavsmk= np.where((HFCR[\"diabetes\"] ==1) & (HFCR[\"smoking\"] ==1), True, False)\r\n",
    "print(diavsmk)"
   ]
  },
  {
   "cell_type": "code",
   "execution_count": 71,
   "metadata": {},
   "outputs": [
    {
     "name": "stdout",
     "output_type": "stream",
     "text": [
      "30\n"
     ]
    }
   ],
   "source": [
    "sdiavsmk = sum(diavsmk)\r\n",
    "print(sdiavsmk)"
   ]
  },
  {
   "cell_type": "code",
   "execution_count": 72,
   "metadata": {},
   "outputs": [
    {
     "data": {
      "text/plain": "95"
     },
     "execution_count": 72,
     "metadata": {},
     "output_type": "execute_result"
    }
   ],
   "source": [
    "125-30"
   ]
  },
  {
   "cell_type": "code",
   "execution_count": 73,
   "metadata": {},
   "outputs": [
    {
     "data": {
      "image/png": "[encoded data removed]",
      "text/plain": "<Figure size 504x504 with 1 Axes>"
     },
     "metadata": {},
     "output_type": "display_data"
    }
   ],
   "source": [
    "Status = ['Smoking while having diabetes', 'Did not smoke while having diabetes']\r\n",
    "data = [30, 95]\r\n",
    "fig = plt.figure(figsize =(7, 7))\r\n",
    "plt.pie(data, labels = Status, autopct='%1.0f%%')\r\n",
    "plt.title('Figure 2.12 Percentage of patients are smoking while having diabetes')\r\n",
    "plt.show()"
   ]
  },
  {
   "cell_type": "markdown",
   "metadata": {},
   "source": [
    "24% of the patient are smoking while having diabetes that does not show a strong positive correlation between these two variables."
   ]
  },
  {
   "cell_type": "code",
   "execution_count": 74,
   "metadata": {},
   "outputs": [
    {
     "name": "stdout",
     "output_type": "stream",
     "text": [
      "[ True False False False False  True False False False  True  True  True\n",
      " False  True False False False False  True False False  True  True False\n",
      "  True False  True  True False False  True False  True False  True False\n",
      " False  True False False  True  True  True False False False  True  True\n",
      "  True False  True  True False  True False False False False  True  True\n",
      "  True  True False False False False False False False False False False\n",
      " False False False False False False False False False False False False\n",
      "  True False False False False False False False False False False False\n",
      " False False False False False False False False False  True False False\n",
      " False False False False False False False False False False False False\n",
      " False False False False False False  True False False False False False\n",
      " False False False False False False False False False False False False\n",
      "  True False False False False False  True False False False False False\n",
      " False False False False False False False False False  True False False\n",
      " False False False False False False False False False False False False\n",
      " False False False  True False False False False False False False False\n",
      " False False  True False False False False False False False False False\n",
      " False False False False False False False False False  True False False\n",
      " False  True False False False False False False False False False False\n",
      " False False False False False False False False False False False False\n",
      " False False False False False False False False False False False False\n",
      " False False False False False False False False False False False False\n",
      " False False False False False False False False False False False False\n",
      " False False False False False False False False False False False False\n",
      " False False False False False False False False False False False]\n"
     ]
    }
   ],
   "source": [
    "hbpvdeath= np.where((HFCR[\"high_blood_pressure\"] ==1) & (HFCR[\"DEATH_EVENT\"] ==1), True, False)\r\n",
    "print(hbpvdeath)"
   ]
  },
  {
   "cell_type": "code",
   "execution_count": 75,
   "metadata": {},
   "outputs": [
    {
     "name": "stdout",
     "output_type": "stream",
     "text": [
      "39\n"
     ]
    }
   ],
   "source": [
    "shbpvdeath = sum(hbpvdeath)\r\n",
    "print(shbpvdeath)"
   ]
  },
  {
   "cell_type": "code",
   "execution_count": 76,
   "metadata": {},
   "outputs": [
    {
     "data": {
      "text/plain": "66"
     },
     "execution_count": 76,
     "metadata": {},
     "output_type": "execute_result"
    }
   ],
   "source": [
    "105-39"
   ]
  },
  {
   "cell_type": "code",
   "execution_count": 77,
   "metadata": {},
   "outputs": [
    {
     "data": {
      "image/png": "[encoded data removed]",
      "text/plain": "<Figure size 504x504 with 1 Axes>"
     },
     "metadata": {},
     "output_type": "display_data"
    }
   ],
   "source": [
    "Status = ['deceased while having high blood pressure', 'Not deceased while having high blood pressure']\r\n",
    "data = [39, 66]\r\n",
    "fig = plt.figure(figsize =(7, 7))\r\n",
    "plt.pie(data, labels = Status, autopct='%1.0f%%')\r\n",
    "plt.title('Figure 2.13 Percentage of patients are deceased while having high blood pressure')\r\n",
    "plt.show()"
   ]
  },
  {
   "cell_type": "markdown",
   "metadata": {},
   "source": [
    "### Which can see that 37% of the patient have deceased while having having high blood pressure, which shows that it somehow have some effect with the pacient's deceased."
   ]
  },
  {
   "cell_type": "code",
   "execution_count": 78,
   "metadata": {},
   "outputs": [
    {
     "name": "stdout",
     "output_type": "stream",
     "text": [
      "[False False False False False  True False False False  True  True  True\n",
      " False False False False False False False False False False  True False\n",
      " False False False  True False False False False False False False False\n",
      " False False False False  True  True  True False False False False  True\n",
      " False False False False False False False False False False  True  True\n",
      " False False False False False False False False False False False False\n",
      " False False False False  True False  True False False False False False\n",
      " False False False False False False False False False False False False\n",
      " False False False False False False False False False  True False False\n",
      " False False False False False False False False False False False False\n",
      "  True False False False False False False False  True False  True False\n",
      " False  True False False False False False False False False False False\n",
      "  True False False False False False False False  True False False False\n",
      " False False False  True False False False False False False False False\n",
      " False False False False  True False  True False False False False False\n",
      " False False False False False False False False False False False False\n",
      " False False False False False False False False False False False  True\n",
      " False False False False False False  True  True False False False False\n",
      " False False False False False False False False False False False False\n",
      " False False False False False False False False False False False False\n",
      " False False False False False False False False False False False False\n",
      " False False False  True False False False False False False False False\n",
      " False False False False False False  True False False False False False\n",
      " False False False False False False False False False False False False\n",
      " False False False False False False  True False False False False]\n"
     ]
    }
   ],
   "source": [
    "hbpvsmk= np.where((HFCR[\"high_blood_pressure\"] ==1) & (HFCR[\"smoking\"] ==1), True, False)\r\n",
    "print(hbpvsmk)"
   ]
  },
  {
   "cell_type": "code",
   "execution_count": 79,
   "metadata": {},
   "outputs": [
    {
     "name": "stdout",
     "output_type": "stream",
     "text": [
      "30\n"
     ]
    }
   ],
   "source": [
    "shbpvsmk = sum(hbpvsmk)\r\n",
    "print(shbpvsmk)"
   ]
  },
  {
   "cell_type": "code",
   "execution_count": 80,
   "metadata": {},
   "outputs": [
    {
     "data": {
      "text/plain": "75"
     },
     "execution_count": 80,
     "metadata": {},
     "output_type": "execute_result"
    }
   ],
   "source": [
    "105-30"
   ]
  },
  {
   "cell_type": "code",
   "execution_count": 81,
   "metadata": {},
   "outputs": [
    {
     "data": {
      "image/png": "[encoded data removed]",
      "text/plain": "<Figure size 504x504 with 1 Axes>"
     },
     "metadata": {},
     "output_type": "display_data"
    }
   ],
   "source": [
    "Status = ['Smoking while having high blood pressure', 'Not smoking while having high blood pressure']\r\n",
    "data = [30, 75]\r\n",
    "fig = plt.figure(figsize =(7, 7))\r\n",
    "plt.pie(data, labels = Status, autopct='%1.0f%%')\r\n",
    "plt.title('Figure 2.13 Percentage of patients are smoking while having high blood pressure')\r\n",
    "plt.show()"
   ]
  },
  {
   "cell_type": "markdown",
   "metadata": {},
   "source": [
    "29% of the patient are smoking while having high blood pressure so that smoking could be a factor to high blood pressure."
   ]
  },
  {
   "cell_type": "code",
   "execution_count": 82,
   "metadata": {},
   "outputs": [
    {
     "name": "stdout",
     "output_type": "stream",
     "text": [
      "[False False  True False False  True False  True False  True  True  True\n",
      " False False False False False False False False False False  True False\n",
      " False  True False  True False  True False False False False False False\n",
      " False False False False  True  True  True False False  True False  True\n",
      " False False False False False False  True False False False  True  True\n",
      " False False False False False  True False  True False False False False\n",
      "  True False  True  True False False False False False False False False\n",
      " False False False False False False False False False False False False\n",
      " False False False False False False False False False  True False False\n",
      " False False  True False False False False False False False False False\n",
      " False False False False False False False False False False False False\n",
      " False False False False False False False False False False False False\n",
      "  True False False False False False False False False False False False\n",
      " False False False False False False False False False False False False\n",
      " False False False False False False False False False False False False\n",
      " False  True  True False  True False False False False False False False\n",
      " False False False False False False False False False False False False\n",
      " False False False False False False False False False False False False\n",
      " False False False False False False False False False False False False\n",
      " False False False False False False False False False False False False\n",
      " False False False False False False False False False False False False\n",
      " False False False False False False False False False False False False\n",
      " False False  True False False False False False False False False False\n",
      " False False False False False False False False False False False False\n",
      " False False False False False False False False False False False]\n"
     ]
    }
   ],
   "source": [
    "smkvdeath= np.where((HFCR[\"smoking\"] ==1) & (HFCR[\"DEATH_EVENT\"] ==1), True, False)\r\n",
    "print(smkvdeath)"
   ]
  },
  {
   "cell_type": "code",
   "execution_count": 83,
   "metadata": {},
   "outputs": [
    {
     "name": "stdout",
     "output_type": "stream",
     "text": [
      "30\n"
     ]
    }
   ],
   "source": [
    "ssmkvdeath = sum(smkvdeath)\r\n",
    "print(ssmkvdeath)"
   ]
  },
  {
   "cell_type": "code",
   "execution_count": 84,
   "metadata": {},
   "outputs": [
    {
     "data": {
      "text/plain": "66"
     },
     "execution_count": 84,
     "metadata": {},
     "output_type": "execute_result"
    }
   ],
   "source": [
    "96-30"
   ]
  },
  {
   "cell_type": "code",
   "execution_count": 85,
   "metadata": {},
   "outputs": [
    {
     "data": {
      "image/png": "[encoded data removed]",
      "text/plain": "<Figure size 504x504 with 1 Axes>"
     },
     "metadata": {},
     "output_type": "display_data"
    }
   ],
   "source": [
    "Status = ['deceased while smoking', 'Not deceased while smoking']\r\n",
    "data = [30, 66]\r\n",
    "fig = plt.figure(figsize =(7, 7))\r\n",
    "plt.pie(data, labels = Status, autopct='%1.0f%%')\r\n",
    "plt.title('Figure 2.13 Percentage of patients are deceased while smoking')\r\n",
    "plt.show()"
   ]
  },
  {
   "cell_type": "markdown",
   "metadata": {},
   "source": [
    "The Figure shows that 31% of the patient were deceased while smoking which shown that it could be a factor caused of patient's deceased."
   ]
  },
  {
   "cell_type": "code",
   "execution_count": 86,
   "metadata": {},
   "outputs": [
    {
     "data": {
      "text/plain": "<AxesSubplot:xlabel='age', ylabel='diabetes'>"
     },
     "execution_count": 86,
     "metadata": {},
     "output_type": "execute_result"
    },
    {
     "data": {
      "image/png": "[encoded data removed]",
      "text/plain": "<Figure size 432x288 with 1 Axes>"
     },
     "metadata": {
      "needs_background": "light"
     },
     "output_type": "display_data"
    }
   ],
   "source": [
    "HFCR.plot( x='age', y='diabetes', kind='scatter')"
   ]
  },
  {
   "cell_type": "code",
   "execution_count": null,
   "metadata": {},
   "outputs": [],
   "source": []
  },
  {
   "cell_type": "code",
   "execution_count": 87,
   "metadata": {},
   "outputs": [
    {
     "name": "stdout",
     "output_type": "stream",
     "text": [
      "41\n",
      "84\n"
     ]
    }
   ],
   "source": [
    "eld = sum(np.where((HFCR[\"age\"] >=65) & (HFCR[\"diabetes\"] ==1), True, False))\r\n",
    "print(eld)\r\n",
    "yoo = sum(np.where((HFCR[\"age\"] < 65) & (HFCR[\"diabetes\"] ==1), True, False))\r\n",
    "print(yoo)"
   ]
  },
  {
   "cell_type": "code",
   "execution_count": 88,
   "metadata": {},
   "outputs": [
    {
     "data": {
      "text/plain": "115"
     },
     "execution_count": 88,
     "metadata": {},
     "output_type": "execute_result"
    }
   ],
   "source": [
    "sum(HFCR[\"age\"] >=65)\r\n"
   ]
  },
  {
   "cell_type": "code",
   "execution_count": 89,
   "metadata": {},
   "outputs": [
    {
     "data": {
      "text/plain": "184"
     },
     "execution_count": 89,
     "metadata": {},
     "output_type": "execute_result"
    }
   ],
   "source": [
    "sum(HFCR[\"age\"] < 65)"
   ]
  },
  {
   "cell_type": "code",
   "execution_count": 90,
   "metadata": {},
   "outputs": [
    {
     "data": {
      "text/plain": "0.3565217391304348"
     },
     "execution_count": 90,
     "metadata": {},
     "output_type": "execute_result"
    }
   ],
   "source": [
    "41/115"
   ]
  },
  {
   "cell_type": "code",
   "execution_count": 91,
   "metadata": {},
   "outputs": [
    {
     "data": {
      "text/plain": "0.45652173913043476"
     },
     "execution_count": 91,
     "metadata": {},
     "output_type": "execute_result"
    }
   ],
   "source": [
    "84/184"
   ]
  },
  {
   "cell_type": "markdown",
   "metadata": {},
   "source": [
    "Where elder people with age above 65 have smaller percentage ratio to have diabetes then patients with age below 65."
   ]
  },
  {
   "cell_type": "code",
   "execution_count": 92,
   "metadata": {},
   "outputs": [
    {
     "data": {
      "text/plain": "<AxesSubplot:xlabel='serum_sodium', ylabel='diabetes'>"
     },
     "execution_count": 92,
     "metadata": {},
     "output_type": "execute_result"
    },
    {
     "data": {
      "image/png": "[encoded data removed]",
      "text/plain": "<Figure size 432x288 with 1 Axes>"
     },
     "metadata": {
      "needs_background": "light"
     },
     "output_type": "display_data"
    }
   ],
   "source": [
    "HFCR.plot( x='serum_sodium', y='diabetes', kind='scatter')"
   ]
  },
  {
   "cell_type": "code",
   "execution_count": 93,
   "metadata": {},
   "outputs": [
    {
     "name": "stdout",
     "output_type": "stream",
     "text": [
      "38\n"
     ]
    }
   ],
   "source": [
    "diso = sum(np.where((HFCR[\"serum_sodium\"] >145) & (HFCR[\"diabetes\"] ==1), True, False)) +sum(np.where((HFCR[\"serum_sodium\"] <135) & (HFCR[\"diabetes\"] ==1), True, False)) \r\n",
    "print(diso)"
   ]
  },
  {
   "cell_type": "code",
   "execution_count": 94,
   "metadata": {},
   "outputs": [
    {
     "name": "stdout",
     "output_type": "stream",
     "text": [
      "47\n"
     ]
    }
   ],
   "source": [
    "diso2 = sum(np.where((HFCR[\"serum_sodium\"] >145) & (HFCR[\"diabetes\"] ==0), True, False)) +sum(np.where((HFCR[\"serum_sodium\"] <135) & (HFCR[\"diabetes\"] ==0), True, False)) \r\n",
    "print(diso2)"
   ]
  },
  {
   "cell_type": "code",
   "execution_count": 95,
   "metadata": {},
   "outputs": [
    {
     "data": {
      "text/plain": "125"
     },
     "execution_count": 95,
     "metadata": {},
     "output_type": "execute_result"
    }
   ],
   "source": [
    "sum(HFCR[\"diabetes\"]==1)"
   ]
  },
  {
   "cell_type": "code",
   "execution_count": 96,
   "metadata": {},
   "outputs": [
    {
     "data": {
      "text/plain": "87"
     },
     "execution_count": 96,
     "metadata": {},
     "output_type": "execute_result"
    }
   ],
   "source": [
    "125-38"
   ]
  },
  {
   "cell_type": "code",
   "execution_count": 97,
   "metadata": {},
   "outputs": [
    {
     "data": {
      "text/plain": "0.304"
     },
     "execution_count": 97,
     "metadata": {},
     "output_type": "execute_result"
    }
   ],
   "source": [
    "38/125"
   ]
  },
  {
   "cell_type": "code",
   "execution_count": 98,
   "metadata": {},
   "outputs": [
    {
     "data": {
      "text/plain": "<AxesSubplot:xlabel='serum_sodium', ylabel='DEATH_EVENT'>"
     },
     "execution_count": 98,
     "metadata": {},
     "output_type": "execute_result"
    },
    {
     "data": {
      "image/png": "[encoded data removed]",
      "text/plain": "<Figure size 432x288 with 1 Axes>"
     },
     "metadata": {
      "needs_background": "light"
     },
     "output_type": "display_data"
    }
   ],
   "source": [
    "HFCR.plot( x='serum_sodium', y='DEATH_EVENT', kind='scatter')"
   ]
  },
  {
   "cell_type": "markdown",
   "metadata": {},
   "source": [
    "30.4% of the patient with diabetes does not have an ideal range of serum sodium, which means most of the people with diabetes does have an ideal range of serum sodium"
   ]
  },
  {
   "cell_type": "code",
   "execution_count": 99,
   "metadata": {},
   "outputs": [
    {
     "name": "stdout",
     "output_type": "stream",
     "text": [
      "43\n",
      "42\n"
     ]
    }
   ],
   "source": [
    "deso = sum(np.where((HFCR[\"serum_sodium\"] >145) & (HFCR[\"DEATH_EVENT\"] ==1), True, False)) +sum(np.where((HFCR[\"serum_sodium\"] <135) & (HFCR[\"DEATH_EVENT\"] ==1), True, False)) \r\n",
    "print(deso)\r\n",
    "deso2 = sum(np.where((HFCR[\"serum_sodium\"] >145) & (HFCR[\"DEATH_EVENT\"] ==0), True, False)) +sum(np.where((HFCR[\"serum_sodium\"] <135) & (HFCR[\"DEATH_EVENT\"] ==0), True, False)) \r\n",
    "print(deso2)"
   ]
  },
  {
   "cell_type": "code",
   "execution_count": 100,
   "metadata": {},
   "outputs": [
    {
     "data": {
      "text/plain": "0.5058823529411764"
     },
     "execution_count": 100,
     "metadata": {},
     "output_type": "execute_result"
    }
   ],
   "source": [
    "43/85"
   ]
  },
  {
   "cell_type": "markdown",
   "metadata": {},
   "source": [
    "Within the patient do not have an ideal range of serum sodium about 50.5% of them were deceased, that could means that this is a very important factor of weather the patient can survive longer. "
   ]
  },
  {
   "cell_type": "code",
   "execution_count": 101,
   "metadata": {},
   "outputs": [
    {
     "data": {
      "text/plain": "<AxesSubplot:xlabel='serum_sodium', ylabel='high_blood_pressure'>"
     },
     "execution_count": 101,
     "metadata": {},
     "output_type": "execute_result"
    },
    {
     "data": {
      "image/png": "[encoded data removed]",
      "text/plain": "<Figure size 432x288 with 1 Axes>"
     },
     "metadata": {
      "needs_background": "light"
     },
     "output_type": "display_data"
    }
   ],
   "source": [
    "HFCR.plot( x='serum_sodium', y='high_blood_pressure', kind='scatter')"
   ]
  },
  {
   "cell_type": "code",
   "execution_count": 102,
   "metadata": {},
   "outputs": [
    {
     "name": "stdout",
     "output_type": "stream",
     "text": [
      "31\n",
      "54\n"
     ]
    }
   ],
   "source": [
    "hbpso = sum(np.where((HFCR[\"serum_sodium\"] >145) & (HFCR[\"high_blood_pressure\"] ==1), True, False)) +sum(np.where((HFCR[\"serum_sodium\"] <135) & (HFCR[\"high_blood_pressure\"] ==1), True, False)) \r\n",
    "print(hbpso)\r\n",
    "hbpso2 = sum(np.where((HFCR[\"serum_sodium\"] >145) & (HFCR[\"high_blood_pressure\"] ==0), True, False)) +sum(np.where((HFCR[\"serum_sodium\"] <135) & (HFCR[\"high_blood_pressure\"] ==0), True, False)) \r\n",
    "print(hbpso2)"
   ]
  },
  {
   "cell_type": "code",
   "execution_count": 103,
   "metadata": {},
   "outputs": [
    {
     "data": {
      "text/plain": "0.36470588235294116"
     },
     "execution_count": 103,
     "metadata": {},
     "output_type": "execute_result"
    }
   ],
   "source": [
    "31/85"
   ]
  },
  {
   "cell_type": "markdown",
   "metadata": {},
   "source": [
    "Within the patient do not have an ideal range of serum sodium about 36.5% of them were having high blood pressure, that could means that high blood pressure could be caused by low/high serum sodium level but not as sufficient as people deceased."
   ]
  },
  {
   "cell_type": "code",
   "execution_count": 104,
   "metadata": {},
   "outputs": [
    {
     "data": {
      "text/plain": "<AxesSubplot:xlabel='serum_sodium', ylabel='smoking'>"
     },
     "execution_count": 104,
     "metadata": {},
     "output_type": "execute_result"
    },
    {
     "data": {
      "image/png": "[encoded data removed]",
      "text/plain": "<Figure size 432x288 with 1 Axes>"
     },
     "metadata": {
      "needs_background": "light"
     },
     "output_type": "display_data"
    }
   ],
   "source": [
    "HFCR.plot( x='serum_sodium', y='smoking', kind='scatter')"
   ]
  },
  {
   "cell_type": "code",
   "execution_count": 105,
   "metadata": {},
   "outputs": [
    {
     "name": "stdout",
     "output_type": "stream",
     "text": [
      "31\n",
      "54\n"
     ]
    }
   ],
   "source": [
    "smkso = sum(np.where((HFCR[\"serum_sodium\"] >145) & (HFCR[\"high_blood_pressure\"] ==1), True, False)) +sum(np.where((HFCR[\"serum_sodium\"] <135) & (HFCR[\"high_blood_pressure\"] ==1), True, False)) \r\n",
    "print(smkso)\r\n",
    "smkso2 = sum(np.where((HFCR[\"serum_sodium\"] >145) & (HFCR[\"high_blood_pressure\"] ==0), True, False)) +sum(np.where((HFCR[\"serum_sodium\"] <135) & (HFCR[\"high_blood_pressure\"] ==0), True, False)) \r\n",
    "print(smkso2)"
   ]
  },
  {
   "cell_type": "markdown",
   "metadata": {},
   "source": [
    "Within the patient do not have an ideal range of serum sodium about 36.5% of them were smoking, that could means that smoking could be a main factor the low/high serum sodium level in"
   ]
  },
  {
   "cell_type": "code",
   "execution_count": 106,
   "metadata": {},
   "outputs": [
    {
     "data": {
      "text/plain": "<AxesSubplot:xlabel='age', ylabel='DEATH_EVENT'>"
     },
     "execution_count": 106,
     "metadata": {},
     "output_type": "execute_result"
    },
    {
     "data": {
      "image/png": "[encoded data removed]",
      "text/plain": "<Figure size 432x288 with 1 Axes>"
     },
     "metadata": {
      "needs_background": "light"
     },
     "output_type": "display_data"
    }
   ],
   "source": [
    "HFCR.plot( x='age', y='DEATH_EVENT', kind='scatter')"
   ]
  },
  {
   "cell_type": "code",
   "execution_count": 107,
   "metadata": {},
   "outputs": [
    {
     "name": "stdout",
     "output_type": "stream",
     "text": [
      "50\n",
      "46\n"
     ]
    }
   ],
   "source": [
    "eagdi= sum(np.where((HFCR[\"age\"] >=65) & (HFCR[\"DEATH_EVENT\"] == 1), True, False))\r\n",
    "print(eagdi)\r\n",
    "yagdi= sum(np.where((HFCR[\"age\"] < 65) & (HFCR[\"DEATH_EVENT\"] == 1), True, False))\r\n",
    "print(yagdi)"
   ]
  },
  {
   "cell_type": "code",
   "execution_count": 108,
   "metadata": {},
   "outputs": [
    {
     "data": {
      "text/plain": "0.43478260869565216"
     },
     "execution_count": 108,
     "metadata": {},
     "output_type": "execute_result"
    }
   ],
   "source": [
    "50/115"
   ]
  },
  {
   "cell_type": "code",
   "execution_count": 109,
   "metadata": {},
   "outputs": [
    {
     "data": {
      "text/plain": "0.25"
     },
     "execution_count": 109,
     "metadata": {},
     "output_type": "execute_result"
    }
   ],
   "source": [
    "46/184"
   ]
  },
  {
   "cell_type": "markdown",
   "metadata": {},
   "source": [
    "Where about 43.5% of the patient above age 65 were deceased during the follow up period and only 25% of the patient with age below 65 were deceased, that shows increase in age might caused higher change of deceased."
   ]
  },
  {
   "cell_type": "code",
   "execution_count": 110,
   "metadata": {},
   "outputs": [
    {
     "data": {
      "text/plain": "<AxesSubplot:xlabel='age', ylabel='high_blood_pressure'>"
     },
     "execution_count": 110,
     "metadata": {},
     "output_type": "execute_result"
    },
    {
     "data": {
      "image/png": "[encoded data removed]",
      "text/plain": "<Figure size 432x288 with 1 Axes>"
     },
     "metadata": {
      "needs_background": "light"
     },
     "output_type": "display_data"
    }
   ],
   "source": [
    "HFCR.plot( x='age', y='high_blood_pressure', kind='scatter')"
   ]
  },
  {
   "cell_type": "code",
   "execution_count": 111,
   "metadata": {},
   "outputs": [
    {
     "name": "stdout",
     "output_type": "stream",
     "text": [
      "48\n",
      "57\n"
     ]
    }
   ],
   "source": [
    "eaghbp= sum(np.where((HFCR[\"age\"] >=65) & (HFCR[\"high_blood_pressure\"] == 1), True, False))\r\n",
    "print(eaghbp)\r\n",
    "yaghbp= sum(np.where((HFCR[\"age\"] < 65) & (HFCR[\"high_blood_pressure\"] == 1), True, False))\r\n",
    "print(yaghbp)"
   ]
  },
  {
   "cell_type": "code",
   "execution_count": 112,
   "metadata": {},
   "outputs": [
    {
     "name": "stdout",
     "output_type": "stream",
     "text": [
      "0.41739130434782606\n",
      "0.30978260869565216\n"
     ]
    }
   ],
   "source": [
    "a2= 48/115\r\n",
    "b2= 57/184\r\n",
    "print(a2)\r\n",
    "print(b2)"
   ]
  },
  {
   "cell_type": "markdown",
   "metadata": {},
   "source": [
    "Where about 41.7% of the patient above age 65 were having high blood pressure during the follow up period and 31% of the patient with age below 65 were having high blood pressure, that shows increase in age might caused higher change of having high blood pressure."
   ]
  },
  {
   "cell_type": "code",
   "execution_count": 113,
   "metadata": {},
   "outputs": [
    {
     "data": {
      "text/plain": "<AxesSubplot:xlabel='age', ylabel='smoking'>"
     },
     "execution_count": 113,
     "metadata": {},
     "output_type": "execute_result"
    },
    {
     "data": {
      "image/png": "[encoded data removed]",
      "text/plain": "<Figure size 432x288 with 1 Axes>"
     },
     "metadata": {
      "needs_background": "light"
     },
     "output_type": "display_data"
    }
   ],
   "source": [
    "HFCR.plot( x='age', y='smoking', kind='scatter')"
   ]
  },
  {
   "cell_type": "code",
   "execution_count": 114,
   "metadata": {},
   "outputs": [
    {
     "name": "stdout",
     "output_type": "stream",
     "text": [
      "38\n",
      "58\n"
     ]
    }
   ],
   "source": [
    "eagsmk= sum(np.where((HFCR[\"age\"] >=65) & (HFCR[\"smoking\"] == 1), True, False))\r\n",
    "print(eagsmk)\r\n",
    "yagsmk= sum(np.where((HFCR[\"age\"] < 65) & (HFCR[\"smoking\"] == 1), True, False))\r\n",
    "print(yagsmk)"
   ]
  },
  {
   "cell_type": "code",
   "execution_count": 115,
   "metadata": {},
   "outputs": [
    {
     "name": "stdout",
     "output_type": "stream",
     "text": [
      "0.33043478260869563\n",
      "0.31521739130434784\n"
     ]
    }
   ],
   "source": [
    "a3= 38/115\r\n",
    "b3= 58/184\r\n",
    "print(a3)\r\n",
    "print(b3)"
   ]
  },
  {
   "cell_type": "markdown",
   "metadata": {},
   "source": [
    "For patient age 65 and above, about 33% of them were smoking at the same time for patient below age 65, 31.5% of them were smoking which shows that with the change of age, that doesnt change weather people were smoking of not."
   ]
  },
  {
   "cell_type": "code",
   "execution_count": 116,
   "metadata": {},
   "outputs": [
    {
     "data": {
      "text/plain": "<AxesSubplot:xlabel='age', ylabel='serum_creatinine'>"
     },
     "execution_count": 116,
     "metadata": {},
     "output_type": "execute_result"
    },
    {
     "data": {
      "image/png": "[encoded data removed]",
      "text/plain": "<Figure size 432x288 with 1 Axes>"
     },
     "metadata": {
      "needs_background": "light"
     },
     "output_type": "display_data"
    }
   ],
   "source": [
    "HFCR.plot( x='age', y='serum_creatinine', kind='scatter')"
   ]
  },
  {
   "cell_type": "code",
   "execution_count": 117,
   "metadata": {},
   "outputs": [
    {
     "name": "stdout",
     "output_type": "stream",
     "text": [
      "44\n",
      "84\n"
     ]
    }
   ],
   "source": [
    "agso = sum(np.where((HFCR[\"serum_sodium\"] >145) & (HFCR[\"age\"] >=65), True, False)) +sum(np.where((HFCR[\"serum_sodium\"] <135) & (HFCR[\"age\"] >=65), True, False)) \r\n",
    "print(agso)\r\n",
    "agso2 = sum(np.where((HFCR[\"serum_sodium\"] >145) & (HFCR[\"age\"] < 65), True, False)) +sum(np.where((HFCR[\"serum_sodium\"] <135) & (HFCR[\"high_blood_pressure\"] < 65), True, False)) \r\n",
    "print(agso2)"
   ]
  },
  {
   "cell_type": "markdown",
   "metadata": {},
   "source": [
    "There 128 patient not having an ideal range of serum sodium where 44 were age 65 and above, 84 were below age 65.\n",
    "There are total 115 patient age 65 and above and 184 patient below age 65."
   ]
  },
  {
   "cell_type": "code",
   "execution_count": 118,
   "metadata": {},
   "outputs": [
    {
     "name": "stdout",
     "output_type": "stream",
     "text": [
      "0.3826086956521739\n",
      "0.45652173913043476\n"
     ]
    }
   ],
   "source": [
    "a7 = 44/115\r\n",
    "b7 = 84/184\r\n",
    "print(a7)\r\n",
    "print(b7)"
   ]
  },
  {
   "cell_type": "markdown",
   "metadata": {},
   "source": [
    "38.3% of the patient  age 65 and above were not having an ideal level of serum sodium on the other hand 45.7% of the paticet with age below 65 were not having an ideal level of serum sodium, which might shows that the increase in age could be a factor that less likely to have the problem of having a non-ideal level of serum sodium."
   ]
  },
  {
   "cell_type": "markdown",
   "metadata": {
    "collapsed": false,
    "pycharm": {
     "name": "#%% md\n"
    }
   },
   "source": [
    "# Task 3: Data Modelling"
   ]
  },
  {
   "cell_type": "markdown",
   "metadata": {
    "collapsed": false,
    "pycharm": {
     "name": "#%% md\n"
    }
   },
   "source": [
    "Scikit-learn metrics module will be used for accuracy calculation"
   ]
  },
  {
   "cell_type": "code",
   "execution_count": 119,
   "metadata": {
    "collapsed": false,
    "pycharm": {
     "name": "#%%\n"
    }
   },
   "outputs": [],
   "source": [
    "HFCR = pd.read_csv('heart_failure_clinical_records_dataset.csv') # Re-import to avoid any possible errors"
   ]
  },
  {
   "cell_type": "markdown",
   "metadata": {
    "collapsed": false
   },
   "source": [
    "## Features and Labels"
   ]
  },
  {
   "cell_type": "code",
   "execution_count": 120,
   "metadata": {
    "collapsed": false,
    "pycharm": {
     "name": "#%%\n"
    }
   },
   "outputs": [
    {
     "name": "stdout",
     "output_type": "stream",
     "text": [
      "Feature set shape:  (299, 12)\n",
      "Label set shape:  (299,)\n"
     ]
    }
   ],
   "source": [
    "X = HFCR.drop(columns=[\"DEATH_EVENT\"]).values\n",
    "y = HFCR['DEATH_EVENT'].values\n",
    "min_max_scaler = MinMaxScaler()\n",
    "X = min_max_scaler.fit_transform(X)\n",
    "print(\"Feature set shape: \", X.shape)\n",
    "print(\"Label set shape: \", y.shape)"
   ]
  },
  {
   "cell_type": "markdown",
   "metadata": {
    "collapsed": false,
    "pycharm": {
     "name": "#%% md\n"
    }
   },
   "source": [
    "## Feature selection using Chi-square statistics test\n",
    "See references [1], [2] and [3] in report"
   ]
  },
  {
   "cell_type": "code",
   "execution_count": 121,
   "metadata": {
    "collapsed": false,
    "pycharm": {
     "name": "#%%\n"
    }
   },
   "outputs": [
    {
     "name": "stdout",
     "output_type": "stream",
     "text": [
      "age 2.3688455650760254\n",
      "anaemia 0.7465934114891604\n",
      "creatinine_phosphokinase 0.2520288462558739\n",
      "diabetes 0.0006568144499178924\n",
      "ejection_fraction 1.8945159685815756\n",
      "high_blood_pressure 1.221538529204786\n",
      "platelets 0.03502136324914082\n",
      "serum_creatinine 3.471610297250155\n",
      "serum_sodium 0.26736792912971147\n",
      "sex 0.001956265975995817\n",
      "smoking 0.032346828817734236\n",
      "time 14.050285792119666\n"
     ]
    }
   ],
   "source": [
    "# Feature extraction\n",
    "test = SelectKBest(score_func=chi2, k=4)\n",
    "fit = test.fit(X, y)\n",
    "\n",
    "# Summarize scores\n",
    "np.set_printoptions(precision=3)\n",
    "for i in range(len(HFCR.columns[:-1])):\n",
    "  print(HFCR.columns[i], fit.scores_[i]) #this displays each feature with the score for that feature"
   ]
  },
  {
   "cell_type": "markdown",
   "metadata": {
    "collapsed": false
   },
   "source": [
    "Age, anaemia, ejection_fraction, serum_creatinine, high_blood_pressure and time have the highest scores."
   ]
  },
  {
   "cell_type": "markdown",
   "metadata": {
    "collapsed": false
   },
   "source": [
    "## Correlation matrix for further feature identification"
   ]
  },
  {
   "cell_type": "code",
   "execution_count": 122,
   "metadata": {
    "collapsed": false,
    "pycharm": {
     "name": "#%%\n"
    }
   },
   "outputs": [
    {
     "data": {
      "image/png": "[encoded data removed]",
      "text/plain": "<Figure size 1440x1440 with 2 Axes>"
     },
     "metadata": {
      "needs_background": "light"
     },
     "output_type": "display_data"
    }
   ],
   "source": [
    "plt.figure(figsize=(20,20))\n",
    "#plot heat map\n",
    "g=sns.heatmap(HFCR.corr(), annot=True, cmap=\"RdYlGn\") #HFCR.corr() generates the correlation matrix"
   ]
  },
  {
   "cell_type": "markdown",
   "metadata": {
    "collapsed": false
   },
   "source": [
    "## Selected Features"
   ]
  },
  {
   "cell_type": "markdown",
   "metadata": {
    "collapsed": false
   },
   "source": [
    "When observing the last row, we can see that DEATH_EVENT has a considerable correlation(negative or positive) with age,\n",
    "ejection_fraction, serum_creatinine, serum_sodium and time. These are the same features identified from chi-square test\n",
    "but high blood pressure has a low correlation value. However, we will keep that too, other columns will not be used."
   ]
  },
  {
   "cell_type": "code",
   "execution_count": 123,
   "metadata": {
    "collapsed": false,
    "pycharm": {
     "name": "#%%\n"
    }
   },
   "outputs": [
    {
     "data": {
      "text/html": "<div>\n<style scoped>\n    .dataframe tbody tr th:only-of-type {\n        vertical-align: middle;\n    }\n\n    .dataframe tbody tr th {\n        vertical-align: top;\n    }\n\n    .dataframe thead th {\n        text-align: right;\n    }\n</style>\n<table border=\"1\" class=\"dataframe\">\n  <thead>\n    <tr style=\"text-align: right;\">\n      <th></th>\n      <th>age</th>\n      <th>ejection_fraction</th>\n      <th>serum_creatinine</th>\n      <th>serum_sodium</th>\n      <th>time</th>\n      <th>platelets</th>\n      <th>high_blood_pressure</th>\n    </tr>\n  </thead>\n  <tbody>\n    <tr>\n      <th>0</th>\n      <td>75.0</td>\n      <td>20</td>\n      <td>1.9</td>\n      <td>130</td>\n      <td>4</td>\n      <td>265000.00</td>\n      <td>1</td>\n    </tr>\n    <tr>\n      <th>1</th>\n      <td>55.0</td>\n      <td>38</td>\n      <td>1.1</td>\n      <td>136</td>\n      <td>6</td>\n      <td>263358.03</td>\n      <td>0</td>\n    </tr>\n    <tr>\n      <th>2</th>\n      <td>65.0</td>\n      <td>20</td>\n      <td>1.3</td>\n      <td>129</td>\n      <td>7</td>\n      <td>162000.00</td>\n      <td>0</td>\n    </tr>\n    <tr>\n      <th>3</th>\n      <td>50.0</td>\n      <td>20</td>\n      <td>1.9</td>\n      <td>137</td>\n      <td>7</td>\n      <td>210000.00</td>\n      <td>0</td>\n    </tr>\n    <tr>\n      <th>4</th>\n      <td>65.0</td>\n      <td>20</td>\n      <td>2.7</td>\n      <td>116</td>\n      <td>8</td>\n      <td>327000.00</td>\n      <td>0</td>\n    </tr>\n  </tbody>\n</table>\n</div>",
      "text/plain": "    age  ejection_fraction  serum_creatinine  serum_sodium  time  platelets  \\\n0  75.0                 20               1.9           130     4  265000.00   \n1  55.0                 38               1.1           136     6  263358.03   \n2  65.0                 20               1.3           129     7  162000.00   \n3  50.0                 20               1.9           137     7  210000.00   \n4  65.0                 20               2.7           116     8  327000.00   \n\n   high_blood_pressure  \n0                    1  \n1                    0  \n2                    0  \n3                    0  \n4                    0  "
     },
     "execution_count": 123,
     "metadata": {},
     "output_type": "execute_result"
    }
   ],
   "source": [
    "HFCR_F = HFCR[['age', 'ejection_fraction', 'serum_creatinine', 'serum_sodium', 'time', 'platelets', 'high_blood_pressure']]\n",
    "HFCR_F.head(5)"
   ]
  },
  {
   "cell_type": "code",
   "execution_count": 124,
   "metadata": {
    "collapsed": false,
    "pycharm": {
     "name": "#%%\n"
    }
   },
   "outputs": [],
   "source": [
    "X = HFCR_F.values #  returns a numpy array\n",
    "min_max_scaler = MinMaxScaler() #  Scaling the new feature set\n",
    "X = min_max_scaler.fit_transform(X)"
   ]
  },
  {
   "cell_type": "markdown",
   "metadata": {
    "collapsed": false
   },
   "source": [
    "## Train set and test set"
   ]
  },
  {
   "cell_type": "markdown",
   "metadata": {
    "collapsed": false
   },
   "source": [
    "Randomly choose 30% of the database for testing, and the rest will be used for training."
   ]
  },
  {
   "cell_type": "code",
   "execution_count": 125,
   "metadata": {
    "collapsed": false,
    "pycharm": {
     "name": "#%%\n"
    }
   },
   "outputs": [],
   "source": [
    "X_train, X_test, y_train, y_test = train_test_split(X, HFCR['DEATH_EVENT'].values, test_size=0.3, shuffle=True)"
   ]
  },
  {
   "cell_type": "markdown",
   "metadata": {
    "collapsed": false
   },
   "source": [
    "## Decision Tree Classifier"
   ]
  },
  {
   "cell_type": "code",
   "execution_count": 126,
   "metadata": {
    "collapsed": false,
    "pycharm": {
     "name": "#%%\n"
    }
   },
   "outputs": [],
   "source": [
    "clf = DecisionTreeClassifier() # Create Decision Tree classifier\n",
    "clf = clf.fit(X_train,y_train) # Train Decision Tree Classifier\n",
    "y_pred = clf.predict(X_test) #Predict the response for test dataset"
   ]
  },
  {
   "cell_type": "code",
   "execution_count": 127,
   "metadata": {
    "collapsed": false,
    "pycharm": {
     "name": "#%%\n"
    }
   },
   "outputs": [
    {
     "name": "stdout",
     "output_type": "stream",
     "text": [
      "Accuracy for Decision tree model: 78.889 %\n"
     ]
    }
   ],
   "source": [
    "# Model Accuracy, how often is the classifier correct?\n",
    "DTCAccuracy = metrics.accuracy_score(y_test, y_pred)*100\n",
    "print(\"Accuracy for Decision tree model:\", DTCAccuracy.round(3), \"%\")"
   ]
  },
  {
   "cell_type": "markdown",
   "metadata": {
    "collapsed": false
   },
   "source": [
    "## K-Nearest Neighbour"
   ]
  },
  {
   "cell_type": "code",
   "execution_count": 128,
   "metadata": {
    "collapsed": false,
    "pycharm": {
     "name": "#%%\n"
    }
   },
   "outputs": [
    {
     "name": "stdout",
     "output_type": "stream",
     "text": [
      "Best K value to use:  11\n"
     ]
    }
   ],
   "source": [
    "# this code calculates for the best k value to use\n",
    "accuracy = []\n",
    "best_knn =None\n",
    "prev_acc = 0\n",
    "best_k = 0\n",
    "k_range = [i for i in range(3,15)]\n",
    "for i in k_range:\n",
    "  KNN = KNeighborsClassifier(n_neighbors=i)\n",
    "\n",
    "  # Train the model using the training sets\n",
    "  KNN.fit(X_train, y_train)\n",
    "\n",
    "  #Predict Output\n",
    "  y_pred_knn= KNN.predict(X_test)\n",
    "  curr_acc = metrics.accuracy_score(y_test, y_pred_knn)*100\n",
    "  accuracy.append(curr_acc)\n",
    "  if prev_acc<curr_acc:\n",
    "    best_knn = KNN\n",
    "    best_k = i\n",
    "  prev_acc = curr_acc\n",
    "print('Best K value to use: ',best_k)"
   ]
  },
  {
   "cell_type": "code",
   "execution_count": 129,
   "metadata": {
    "collapsed": false,
    "pycharm": {
     "name": "#%%\n"
    }
   },
   "outputs": [
    {
     "data": {
      "image/png": "[encoded data removed]",
      "text/plain": "<Figure size 432x288 with 1 Axes>"
     },
     "metadata": {
      "needs_background": "light"
     },
     "output_type": "display_data"
    }
   ],
   "source": [
    "plt.figure()\n",
    "plt.xlabel('K value') \n",
    "plt.ylabel('Accuracy')\n",
    "plt.plot(k_range, accuracy)\n",
    "plt.show()"
   ]
  },
  {
   "cell_type": "markdown",
   "metadata": {
    "collapsed": false,
    "pycharm": {
     "name": "#%% md\n"
    }
   },
   "source": [
    "As we can see here, the code above had selected the best k value to use when comparing accuracy between different K\n",
    "values and the corresponding prediction accuracy."
   ]
  },
  {
   "cell_type": "code",
   "execution_count": 130,
   "metadata": {
    "collapsed": false,
    "pycharm": {
     "name": "#%%\n"
    }
   },
   "outputs": [
    {
     "name": "stdout",
     "output_type": "stream",
     "text": [
      "Accuracy of KNN model: 77.778 %\n"
     ]
    }
   ],
   "source": [
    "knn = best_knn\n",
    "y_pred_knn = knn.predict(X_test)\n",
    "knnAccuracy = metrics.accuracy_score(y_test, y_pred_knn)*100\n",
    "print(\"Accuracy of KNN model:\", knnAccuracy.round(3), '%')"
   ]
  }
 ],
 "metadata": {
  "kernelspec": {
   "display_name": "Python 3.8.5 64-bit",
   "name": "python385jvsc74a57bd0b3ba2566441a7c06988d0923437866b63cedc61552a5af99d1f4fb67d367b25f"
  },
  "language_info": {
   "name": "python",
   "version": ""
  },
  "orig_nbformat": 3
 },
 "nbformat": 4,
 "nbformat_minor": 0
}